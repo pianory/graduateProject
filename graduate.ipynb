{
 "cells": [
  {
   "cell_type": "code",
   "execution_count": 89,
   "metadata": {},
   "outputs": [],
   "source": [
    "import numpy as np\n",
    "import pandas as pd\n",
    "import matplotlib.pyplot as plt\n",
    "import openpyxl\n",
    "import seaborn as sns    "
   ]
  },
  {
   "cell_type": "code",
   "execution_count": 41,
   "metadata": {},
   "outputs": [],
   "source": [
    "example = pd.read_excel('data/Substance_20220708_1314_100.xlsx', engine='openpyxl', sheet_name=4, header=7)"
   ]
  },
  {
   "cell_type": "code",
   "execution_count": 43,
   "metadata": {
    "scrolled": true
   },
   "outputs": [
    {
     "ename": "IndexError",
     "evalue": "single positional indexer is out-of-bounds",
     "output_type": "error",
     "traceback": [
      "\u001b[1;31m---------------------------------------------------------------------------\u001b[0m",
      "\u001b[1;31mIndexError\u001b[0m                                Traceback (most recent call last)",
      "\u001b[1;32m<ipython-input-43-d47f6db96938>\u001b[0m in \u001b[0;36m<module>\u001b[1;34m\u001b[0m\n\u001b[1;32m----> 1\u001b[1;33m \u001b[0myes\u001b[0m \u001b[1;33m=\u001b[0m \u001b[0mexample\u001b[0m\u001b[1;33m[\u001b[0m\u001b[0mexample\u001b[0m\u001b[1;33m[\u001b[0m\u001b[1;34m'Property'\u001b[0m\u001b[1;33m]\u001b[0m\u001b[1;33m==\u001b[0m\u001b[1;34m'pKa'\u001b[0m\u001b[1;33m]\u001b[0m\u001b[1;33m[\u001b[0m\u001b[1;34m'Value and Units'\u001b[0m\u001b[1;33m]\u001b[0m\u001b[1;33m.\u001b[0m\u001b[0miloc\u001b[0m\u001b[1;33m[\u001b[0m\u001b[1;36m0\u001b[0m\u001b[1;33m]\u001b[0m\u001b[1;33m.\u001b[0m\u001b[0msplit\u001b[0m\u001b[1;33m(\u001b[0m\u001b[1;34m'±'\u001b[0m\u001b[1;33m)\u001b[0m\u001b[1;33m[\u001b[0m\u001b[1;36m0\u001b[0m\u001b[1;33m]\u001b[0m\u001b[1;33m\u001b[0m\u001b[1;33m\u001b[0m\u001b[0m\n\u001b[0m\u001b[0;32m      2\u001b[0m \u001b[0mfloat\u001b[0m\u001b[1;33m(\u001b[0m\u001b[0myes\u001b[0m\u001b[1;33m)\u001b[0m\u001b[1;33m\u001b[0m\u001b[1;33m\u001b[0m\u001b[0m\n",
      "\u001b[1;32m~\\anaconda3\\lib\\site-packages\\pandas\\core\\indexing.py\u001b[0m in \u001b[0;36m__getitem__\u001b[1;34m(self, key)\u001b[0m\n\u001b[0;32m   1765\u001b[0m \u001b[1;33m\u001b[0m\u001b[0m\n\u001b[0;32m   1766\u001b[0m             \u001b[0mmaybe_callable\u001b[0m \u001b[1;33m=\u001b[0m \u001b[0mcom\u001b[0m\u001b[1;33m.\u001b[0m\u001b[0mapply_if_callable\u001b[0m\u001b[1;33m(\u001b[0m\u001b[0mkey\u001b[0m\u001b[1;33m,\u001b[0m \u001b[0mself\u001b[0m\u001b[1;33m.\u001b[0m\u001b[0mobj\u001b[0m\u001b[1;33m)\u001b[0m\u001b[1;33m\u001b[0m\u001b[1;33m\u001b[0m\u001b[0m\n\u001b[1;32m-> 1767\u001b[1;33m             \u001b[1;32mreturn\u001b[0m \u001b[0mself\u001b[0m\u001b[1;33m.\u001b[0m\u001b[0m_getitem_axis\u001b[0m\u001b[1;33m(\u001b[0m\u001b[0mmaybe_callable\u001b[0m\u001b[1;33m,\u001b[0m \u001b[0maxis\u001b[0m\u001b[1;33m=\u001b[0m\u001b[0maxis\u001b[0m\u001b[1;33m)\u001b[0m\u001b[1;33m\u001b[0m\u001b[1;33m\u001b[0m\u001b[0m\n\u001b[0m\u001b[0;32m   1768\u001b[0m \u001b[1;33m\u001b[0m\u001b[0m\n\u001b[0;32m   1769\u001b[0m     \u001b[1;32mdef\u001b[0m \u001b[0m_is_scalar_access\u001b[0m\u001b[1;33m(\u001b[0m\u001b[0mself\u001b[0m\u001b[1;33m,\u001b[0m \u001b[0mkey\u001b[0m\u001b[1;33m:\u001b[0m \u001b[0mTuple\u001b[0m\u001b[1;33m)\u001b[0m\u001b[1;33m:\u001b[0m\u001b[1;33m\u001b[0m\u001b[1;33m\u001b[0m\u001b[0m\n",
      "\u001b[1;32m~\\anaconda3\\lib\\site-packages\\pandas\\core\\indexing.py\u001b[0m in \u001b[0;36m_getitem_axis\u001b[1;34m(self, key, axis)\u001b[0m\n\u001b[0;32m   2135\u001b[0m \u001b[1;33m\u001b[0m\u001b[0m\n\u001b[0;32m   2136\u001b[0m             \u001b[1;31m# validate the location\u001b[0m\u001b[1;33m\u001b[0m\u001b[1;33m\u001b[0m\u001b[1;33m\u001b[0m\u001b[0m\n\u001b[1;32m-> 2137\u001b[1;33m             \u001b[0mself\u001b[0m\u001b[1;33m.\u001b[0m\u001b[0m_validate_integer\u001b[0m\u001b[1;33m(\u001b[0m\u001b[0mkey\u001b[0m\u001b[1;33m,\u001b[0m \u001b[0maxis\u001b[0m\u001b[1;33m)\u001b[0m\u001b[1;33m\u001b[0m\u001b[1;33m\u001b[0m\u001b[0m\n\u001b[0m\u001b[0;32m   2138\u001b[0m \u001b[1;33m\u001b[0m\u001b[0m\n\u001b[0;32m   2139\u001b[0m             \u001b[1;32mreturn\u001b[0m \u001b[0mself\u001b[0m\u001b[1;33m.\u001b[0m\u001b[0m_get_loc\u001b[0m\u001b[1;33m(\u001b[0m\u001b[0mkey\u001b[0m\u001b[1;33m,\u001b[0m \u001b[0maxis\u001b[0m\u001b[1;33m=\u001b[0m\u001b[0maxis\u001b[0m\u001b[1;33m)\u001b[0m\u001b[1;33m\u001b[0m\u001b[1;33m\u001b[0m\u001b[0m\n",
      "\u001b[1;32m~\\anaconda3\\lib\\site-packages\\pandas\\core\\indexing.py\u001b[0m in \u001b[0;36m_validate_integer\u001b[1;34m(self, key, axis)\u001b[0m\n\u001b[0;32m   2060\u001b[0m         \u001b[0mlen_axis\u001b[0m \u001b[1;33m=\u001b[0m \u001b[0mlen\u001b[0m\u001b[1;33m(\u001b[0m\u001b[0mself\u001b[0m\u001b[1;33m.\u001b[0m\u001b[0mobj\u001b[0m\u001b[1;33m.\u001b[0m\u001b[0m_get_axis\u001b[0m\u001b[1;33m(\u001b[0m\u001b[0maxis\u001b[0m\u001b[1;33m)\u001b[0m\u001b[1;33m)\u001b[0m\u001b[1;33m\u001b[0m\u001b[1;33m\u001b[0m\u001b[0m\n\u001b[0;32m   2061\u001b[0m         \u001b[1;32mif\u001b[0m \u001b[0mkey\u001b[0m \u001b[1;33m>=\u001b[0m \u001b[0mlen_axis\u001b[0m \u001b[1;32mor\u001b[0m \u001b[0mkey\u001b[0m \u001b[1;33m<\u001b[0m \u001b[1;33m-\u001b[0m\u001b[0mlen_axis\u001b[0m\u001b[1;33m:\u001b[0m\u001b[1;33m\u001b[0m\u001b[1;33m\u001b[0m\u001b[0m\n\u001b[1;32m-> 2062\u001b[1;33m             \u001b[1;32mraise\u001b[0m \u001b[0mIndexError\u001b[0m\u001b[1;33m(\u001b[0m\u001b[1;34m\"single positional indexer is out-of-bounds\"\u001b[0m\u001b[1;33m)\u001b[0m\u001b[1;33m\u001b[0m\u001b[1;33m\u001b[0m\u001b[0m\n\u001b[0m\u001b[0;32m   2063\u001b[0m \u001b[1;33m\u001b[0m\u001b[0m\n\u001b[0;32m   2064\u001b[0m     \u001b[1;32mdef\u001b[0m \u001b[0m_getitem_tuple\u001b[0m\u001b[1;33m(\u001b[0m\u001b[0mself\u001b[0m\u001b[1;33m,\u001b[0m \u001b[0mtup\u001b[0m\u001b[1;33m:\u001b[0m \u001b[0mTuple\u001b[0m\u001b[1;33m)\u001b[0m\u001b[1;33m:\u001b[0m\u001b[1;33m\u001b[0m\u001b[1;33m\u001b[0m\u001b[0m\n",
      "\u001b[1;31mIndexError\u001b[0m: single positional indexer is out-of-bounds"
     ]
    }
   ],
   "source": [
    "yes = example[example['Property']=='pKa']['Value and Units'].iloc[0].split('±')[0]\n",
    "float(yes)"
   ]
  },
  {
   "cell_type": "code",
   "execution_count": 44,
   "metadata": {},
   "outputs": [
    {
     "data": {
      "text/plain": [
       "1.079"
      ]
     },
     "execution_count": 44,
     "metadata": {},
     "output_type": "execute_result"
    }
   ],
   "source": [
    "yes2 = example[example['Property']=='Density']['Value and Units'].iloc[0].split('±')[0].split()[0]\n",
    "float(yes2)"
   ]
  },
  {
   "cell_type": "code",
   "execution_count": 45,
   "metadata": {},
   "outputs": [
    {
     "data": {
      "text/plain": [
       "183.8"
      ]
     },
     "execution_count": 45,
     "metadata": {},
     "output_type": "execute_result"
    }
   ],
   "source": [
    "yes3 = example[example['Property']=='Molar Volume']['Value and Units'].iloc[0].split('±')[0]\n",
    "float(yes3)"
   ]
  },
  {
   "cell_type": "code",
   "execution_count": 46,
   "metadata": {},
   "outputs": [
    {
     "data": {
      "text/plain": [
       "2"
      ]
     },
     "execution_count": 46,
     "metadata": {},
     "output_type": "execute_result"
    }
   ],
   "source": [
    "yes4 = example[example['Property']=='Freely Rotatable Bonds']['Value and Units'].iloc[0]\n",
    "int(yes4)"
   ]
  },
  {
   "cell_type": "code",
   "execution_count": 47,
   "metadata": {},
   "outputs": [
    {
     "data": {
      "text/plain": [
       "173    1\n",
       "Name: Value and Units, dtype: object"
      ]
     },
     "execution_count": 47,
     "metadata": {},
     "output_type": "execute_result"
    }
   ],
   "source": [
    "example[example['Property']=='H Acceptors']['Value and Units']"
   ]
  },
  {
   "cell_type": "code",
   "execution_count": 48,
   "metadata": {},
   "outputs": [
    {
     "data": {
      "text/plain": [
       "174    0\n",
       "Name: Value and Units, dtype: object"
      ]
     },
     "execution_count": 48,
     "metadata": {},
     "output_type": "execute_result"
    }
   ],
   "source": [
    "example[example['Property']=='H Donors']['Value and Units']"
   ]
  },
  {
   "cell_type": "code",
   "execution_count": 49,
   "metadata": {
    "scrolled": true
   },
   "outputs": [
    {
     "data": {
      "text/plain": [
       "168    196.24\n",
       "177    196.24\n",
       "Name: Value and Units, dtype: object"
      ]
     },
     "execution_count": 49,
     "metadata": {},
     "output_type": "execute_result"
    }
   ],
   "source": [
    "example[example['Property']=='Molecular Weight']['Value and Units']"
   ]
  },
  {
   "cell_type": "code",
   "execution_count": 50,
   "metadata": {
    "scrolled": true
   },
   "outputs": [
    {
     "data": {
      "text/plain": [
       "178    17.1 A2\n",
       "Name: Value and Units, dtype: object"
      ]
     },
     "execution_count": 50,
     "metadata": {},
     "output_type": "execute_result"
    }
   ],
   "source": [
    "example[example['Property']=='Polar Surface Area']['Value and Units']"
   ]
  },
  {
   "cell_type": "code",
   "execution_count": 72,
   "metadata": {},
   "outputs": [
    {
     "data": {
      "text/html": [
       "<div>\n",
       "<style scoped>\n",
       "    .dataframe tbody tr th:only-of-type {\n",
       "        vertical-align: middle;\n",
       "    }\n",
       "\n",
       "    .dataframe tbody tr th {\n",
       "        vertical-align: top;\n",
       "    }\n",
       "\n",
       "    .dataframe thead th {\n",
       "        text-align: right;\n",
       "    }\n",
       "</style>\n",
       "<table border=\"1\" class=\"dataframe\">\n",
       "  <thead>\n",
       "    <tr style=\"text-align: right;\">\n",
       "      <th></th>\n",
       "      <th>Density</th>\n",
       "      <th>Molar Volume</th>\n",
       "      <th>Freely Rotatable Bonds</th>\n",
       "      <th>H Acceptors</th>\n",
       "      <th>H Donors</th>\n",
       "      <th>Molecular Weight</th>\n",
       "      <th>Polar Surface Area</th>\n",
       "      <th>Boiling Point</th>\n",
       "    </tr>\n",
       "  </thead>\n",
       "  <tbody>\n",
       "  </tbody>\n",
       "</table>\n",
       "</div>"
      ],
      "text/plain": [
       "Empty DataFrame\n",
       "Columns: [Density, Molar Volume, Freely Rotatable Bonds, H Acceptors, H Donors, Molecular Weight, Polar Surface Area, Boiling Point]\n",
       "Index: []"
      ]
     },
     "execution_count": 72,
     "metadata": {},
     "output_type": "execute_result"
    }
   ],
   "source": [
    "data = pd.DataFrame(columns=['Density', 'Molar Volume', 'Freely Rotatable Bonds', 'H Acceptors', 'H Donors', 'Molecular Weight', 'Polar Surface Area', 'Boiling Point'])\n",
    "data"
   ]
  },
  {
   "cell_type": "code",
   "execution_count": 52,
   "metadata": {
    "scrolled": true
   },
   "outputs": [
    {
     "name": "stderr",
     "output_type": "stream",
     "text": [
      "C:\\Users\\kev22\\anaconda3\\lib\\site-packages\\openpyxl\\styles\\stylesheet.py:214: UserWarning: Workbook contains no default style, apply openpyxl's default\n",
      "  warn(\"Workbook contains no default style, apply openpyxl's default\")\n"
     ]
    }
   ],
   "source": [
    "example = pd.read_excel('data/Substance_20220708_1314_100.xlsx', engine='openpyxl', sheet_name=2, header=7)"
   ]
  },
  {
   "cell_type": "code",
   "execution_count": 71,
   "metadata": {},
   "outputs": [
    {
     "data": {
      "text/plain": [
       "'541.5'"
      ]
     },
     "execution_count": 71,
     "metadata": {},
     "output_type": "execute_result"
    }
   ],
   "source": [
    "boilingPoint = cur[cur['Property']=='Boiling Point']['Value and Units'].iloc[0].split('±')[0].split()[0]\n",
    "boilingPoint"
   ]
  },
  {
   "cell_type": "code",
   "execution_count": 75,
   "metadata": {},
   "outputs": [
    {
     "name": "stderr",
     "output_type": "stream",
     "text": [
      "C:\\Users\\kev22\\anaconda3\\lib\\site-packages\\openpyxl\\styles\\stylesheet.py:214: UserWarning: Workbook contains no default style, apply openpyxl's default\n",
      "  warn(\"Workbook contains no default style, apply openpyxl's default\")\n"
     ]
    }
   ],
   "source": [
    "k = 1314\n",
    "for j in range(1, 101):\n",
    "    try:\n",
    "        readMulty = pd.read_excel('data/Substance_20220708_{}_{}.xlsx'.format(str(k), j*100), engine='openpyxl', sheet_name=[i for i in range(2, 102)], header=7)\n",
    "    except:\n",
    "        k += 1\n",
    "        readMulty = pd.read_excel('data/Substance_20220708_{}_{}.xlsx'.format(str(k), j*100), engine='openpyxl', sheet_name=[i for i in range(2, 102)], header=7)\n",
    "    for i in range(2, 102):\n",
    "        dataDict = {}\n",
    "        cur = readMulty[i]\n",
    "\n",
    "        try:\n",
    "            density = cur[cur['Property']=='Density']['Value and Units'].iloc[0].split('±')[0].split()[0]\n",
    "            dataDict['Density'] = float(density)\n",
    "        except:\n",
    "            pass\n",
    "\n",
    "        try:\n",
    "            molarVolume = cur[cur['Property']=='Molar Volume']['Value and Units'].iloc[0].split('±')[0].split()[0]\n",
    "            dataDict['Molar Volume'] = float(molarVolume)\n",
    "        except:\n",
    "            pass\n",
    "\n",
    "        try:\n",
    "            freelyRotatableBonds = cur[cur['Property']=='Freely Rotatable Bonds']['Value and Units'].iloc[0].split('±')[0].split()[0]\n",
    "            dataDict['Freely Rotatable Bonds'] = float(freelyRotatableBonds)\n",
    "        except:\n",
    "            pass\n",
    "\n",
    "        try:\n",
    "            hAcceptors = cur[cur['Property']=='H Acceptors']['Value and Units'].iloc[0].split('±')[0].split()[0]\n",
    "            dataDict['H Acceptors'] = int(hAcceptors)\n",
    "        except:\n",
    "            pass\n",
    "\n",
    "        try:\n",
    "            hDonors = cur[cur['Property']=='H Donors']['Value and Units'].iloc[0].split('±')[0].split()[0]\n",
    "            dataDict['H Donors'] = int(hDonors)\n",
    "        except:\n",
    "            pass\n",
    "\n",
    "        try:\n",
    "            molecularWeight = cur[cur['Property']=='Molecular Weight']['Value and Units'].iloc[0].split('±')[0].split()[0]\n",
    "            dataDict['Molecular Weight'] = float(molecularWeight)\n",
    "        except:\n",
    "            pass\n",
    "\n",
    "        try:\n",
    "            polarSurfaceArea = cur[cur['Property']=='Polar Surface Area']['Value and Units'].iloc[0].split('±')[0].split()[0]\n",
    "            dataDict['Polar Surface Area'] = float(polarSurfaceArea)\n",
    "        except:\n",
    "            pass\n",
    "\n",
    "        try:\n",
    "            boilingPoint = cur[cur['Property']=='Boiling Point']['Value and Units'].iloc[0].split('±')[0].split()[0]\n",
    "            dataDict['Boiling Point'] = float(boilingPoint)\n",
    "        except:\n",
    "            pass\n",
    "\n",
    "        data = data.append(dataDict, ignore_index=True)"
   ]
  },
  {
   "cell_type": "code",
   "execution_count": 55,
   "metadata": {},
   "outputs": [
    {
     "data": {
      "text/html": [
       "<div>\n",
       "<style scoped>\n",
       "    .dataframe tbody tr th:only-of-type {\n",
       "        vertical-align: middle;\n",
       "    }\n",
       "\n",
       "    .dataframe tbody tr th {\n",
       "        vertical-align: top;\n",
       "    }\n",
       "\n",
       "    .dataframe thead th {\n",
       "        text-align: right;\n",
       "    }\n",
       "</style>\n",
       "<table border=\"1\" class=\"dataframe\">\n",
       "  <thead>\n",
       "    <tr style=\"text-align: right;\">\n",
       "      <th></th>\n",
       "      <th>Type</th>\n",
       "      <th>Category</th>\n",
       "      <th>Property</th>\n",
       "      <th>Value and Units</th>\n",
       "      <th>Temperature</th>\n",
       "      <th>Pressure</th>\n",
       "      <th>pH</th>\n",
       "      <th>Most Acidic / Most Basic</th>\n",
       "      <th>Solvent</th>\n",
       "      <th>Wavelength</th>\n",
       "      <th>Pathlength</th>\n",
       "      <th>Concentration</th>\n",
       "      <th>Organism</th>\n",
       "      <th>Route</th>\n",
       "      <th>Attribution</th>\n",
       "      <th>Source</th>\n",
       "    </tr>\n",
       "  </thead>\n",
       "  <tbody>\n",
       "    <tr>\n",
       "      <th>0</th>\n",
       "      <td>Experimental</td>\n",
       "      <td>Thermal</td>\n",
       "      <td>Melting Point</td>\n",
       "      <td>201-203 °C</td>\n",
       "      <td>NaN</td>\n",
       "      <td>NaN</td>\n",
       "      <td>NaN</td>\n",
       "      <td>NaN</td>\n",
       "      <td>NaN</td>\n",
       "      <td>NaN</td>\n",
       "      <td>NaN</td>\n",
       "      <td>NaN</td>\n",
       "      <td>NaN</td>\n",
       "      <td>NaN</td>\n",
       "      <td>CAS</td>\n",
       "      <td>1 Source</td>\n",
       "    </tr>\n",
       "    <tr>\n",
       "      <th>1</th>\n",
       "      <td>Predicted</td>\n",
       "      <td>Biological</td>\n",
       "      <td>Bioconcentration Factor</td>\n",
       "      <td>32.7</td>\n",
       "      <td>25 °C</td>\n",
       "      <td>NaN</td>\n",
       "      <td>pH 1</td>\n",
       "      <td>NaN</td>\n",
       "      <td>NaN</td>\n",
       "      <td>NaN</td>\n",
       "      <td>NaN</td>\n",
       "      <td>NaN</td>\n",
       "      <td>NaN</td>\n",
       "      <td>NaN</td>\n",
       "      <td>ACD</td>\n",
       "      <td>Calculated using Advanced Chemistry Developmen...</td>\n",
       "    </tr>\n",
       "    <tr>\n",
       "      <th>2</th>\n",
       "      <td>Predicted</td>\n",
       "      <td>Biological</td>\n",
       "      <td>Bioconcentration Factor</td>\n",
       "      <td>37.9</td>\n",
       "      <td>25 °C</td>\n",
       "      <td>NaN</td>\n",
       "      <td>pH 2</td>\n",
       "      <td>NaN</td>\n",
       "      <td>NaN</td>\n",
       "      <td>NaN</td>\n",
       "      <td>NaN</td>\n",
       "      <td>NaN</td>\n",
       "      <td>NaN</td>\n",
       "      <td>NaN</td>\n",
       "      <td>ACD</td>\n",
       "      <td>Calculated using Advanced Chemistry Developmen...</td>\n",
       "    </tr>\n",
       "    <tr>\n",
       "      <th>3</th>\n",
       "      <td>Predicted</td>\n",
       "      <td>Biological</td>\n",
       "      <td>Bioconcentration Factor</td>\n",
       "      <td>38.5</td>\n",
       "      <td>25 °C</td>\n",
       "      <td>NaN</td>\n",
       "      <td>pH 3</td>\n",
       "      <td>NaN</td>\n",
       "      <td>NaN</td>\n",
       "      <td>NaN</td>\n",
       "      <td>NaN</td>\n",
       "      <td>NaN</td>\n",
       "      <td>NaN</td>\n",
       "      <td>NaN</td>\n",
       "      <td>ACD</td>\n",
       "      <td>Calculated using Advanced Chemistry Developmen...</td>\n",
       "    </tr>\n",
       "    <tr>\n",
       "      <th>4</th>\n",
       "      <td>Predicted</td>\n",
       "      <td>Biological</td>\n",
       "      <td>Bioconcentration Factor</td>\n",
       "      <td>38.6</td>\n",
       "      <td>25 °C</td>\n",
       "      <td>NaN</td>\n",
       "      <td>pH 4</td>\n",
       "      <td>NaN</td>\n",
       "      <td>NaN</td>\n",
       "      <td>NaN</td>\n",
       "      <td>NaN</td>\n",
       "      <td>NaN</td>\n",
       "      <td>NaN</td>\n",
       "      <td>NaN</td>\n",
       "      <td>ACD</td>\n",
       "      <td>Calculated using Advanced Chemistry Developmen...</td>\n",
       "    </tr>\n",
       "    <tr>\n",
       "      <th>...</th>\n",
       "      <td>...</td>\n",
       "      <td>...</td>\n",
       "      <td>...</td>\n",
       "      <td>...</td>\n",
       "      <td>...</td>\n",
       "      <td>...</td>\n",
       "      <td>...</td>\n",
       "      <td>...</td>\n",
       "      <td>...</td>\n",
       "      <td>...</td>\n",
       "      <td>...</td>\n",
       "      <td>...</td>\n",
       "      <td>...</td>\n",
       "      <td>...</td>\n",
       "      <td>...</td>\n",
       "      <td>...</td>\n",
       "    </tr>\n",
       "    <tr>\n",
       "      <th>66</th>\n",
       "      <td>Predicted</td>\n",
       "      <td>Lipinski</td>\n",
       "      <td>Molecular Weight</td>\n",
       "      <td>306.34</td>\n",
       "      <td>NaN</td>\n",
       "      <td>NaN</td>\n",
       "      <td>NaN</td>\n",
       "      <td>NaN</td>\n",
       "      <td>NaN</td>\n",
       "      <td>NaN</td>\n",
       "      <td>NaN</td>\n",
       "      <td>NaN</td>\n",
       "      <td>NaN</td>\n",
       "      <td>NaN</td>\n",
       "      <td>NaN</td>\n",
       "      <td>NaN</td>\n",
       "    </tr>\n",
       "    <tr>\n",
       "      <th>67</th>\n",
       "      <td>Predicted</td>\n",
       "      <td>Structure Related</td>\n",
       "      <td>Polar Surface Area</td>\n",
       "      <td>118 A2</td>\n",
       "      <td>NaN</td>\n",
       "      <td>NaN</td>\n",
       "      <td>NaN</td>\n",
       "      <td>NaN</td>\n",
       "      <td>NaN</td>\n",
       "      <td>NaN</td>\n",
       "      <td>NaN</td>\n",
       "      <td>NaN</td>\n",
       "      <td>NaN</td>\n",
       "      <td>NaN</td>\n",
       "      <td>ACD</td>\n",
       "      <td>Calculated using Advanced Chemistry Developmen...</td>\n",
       "    </tr>\n",
       "    <tr>\n",
       "      <th>68</th>\n",
       "      <td>Predicted</td>\n",
       "      <td>Thermal</td>\n",
       "      <td>Boiling Point</td>\n",
       "      <td>444.8±55.0 °C</td>\n",
       "      <td>NaN</td>\n",
       "      <td>760 Torr</td>\n",
       "      <td>NaN</td>\n",
       "      <td>NaN</td>\n",
       "      <td>NaN</td>\n",
       "      <td>NaN</td>\n",
       "      <td>NaN</td>\n",
       "      <td>NaN</td>\n",
       "      <td>NaN</td>\n",
       "      <td>NaN</td>\n",
       "      <td>ACD</td>\n",
       "      <td>Calculated using Advanced Chemistry Developmen...</td>\n",
       "    </tr>\n",
       "    <tr>\n",
       "      <th>69</th>\n",
       "      <td>Predicted</td>\n",
       "      <td>Thermal</td>\n",
       "      <td>Enthalpy of Vaporization</td>\n",
       "      <td>70.27±3.0 kJ/mol</td>\n",
       "      <td>NaN</td>\n",
       "      <td>760 Torr</td>\n",
       "      <td>NaN</td>\n",
       "      <td>NaN</td>\n",
       "      <td>NaN</td>\n",
       "      <td>NaN</td>\n",
       "      <td>NaN</td>\n",
       "      <td>NaN</td>\n",
       "      <td>NaN</td>\n",
       "      <td>NaN</td>\n",
       "      <td>ACD</td>\n",
       "      <td>Calculated using Advanced Chemistry Developmen...</td>\n",
       "    </tr>\n",
       "    <tr>\n",
       "      <th>70</th>\n",
       "      <td>Predicted</td>\n",
       "      <td>Thermal</td>\n",
       "      <td>Flash Point</td>\n",
       "      <td>222.8±31.5 °C</td>\n",
       "      <td>NaN</td>\n",
       "      <td>NaN</td>\n",
       "      <td>NaN</td>\n",
       "      <td>NaN</td>\n",
       "      <td>NaN</td>\n",
       "      <td>NaN</td>\n",
       "      <td>NaN</td>\n",
       "      <td>NaN</td>\n",
       "      <td>NaN</td>\n",
       "      <td>NaN</td>\n",
       "      <td>ACD</td>\n",
       "      <td>Calculated using Advanced Chemistry Developmen...</td>\n",
       "    </tr>\n",
       "  </tbody>\n",
       "</table>\n",
       "<p>71 rows × 16 columns</p>\n",
       "</div>"
      ],
      "text/plain": [
       "            Type           Category                  Property  \\\n",
       "0   Experimental            Thermal             Melting Point   \n",
       "1      Predicted         Biological   Bioconcentration Factor   \n",
       "2      Predicted         Biological   Bioconcentration Factor   \n",
       "3      Predicted         Biological   Bioconcentration Factor   \n",
       "4      Predicted         Biological   Bioconcentration Factor   \n",
       "..           ...                ...                       ...   \n",
       "66     Predicted           Lipinski          Molecular Weight   \n",
       "67     Predicted  Structure Related        Polar Surface Area   \n",
       "68     Predicted            Thermal             Boiling Point   \n",
       "69     Predicted            Thermal  Enthalpy of Vaporization   \n",
       "70     Predicted            Thermal               Flash Point   \n",
       "\n",
       "     Value and Units Temperature  Pressure    pH Most Acidic / Most Basic  \\\n",
       "0         201-203 °C         NaN       NaN   NaN                      NaN   \n",
       "1               32.7       25 °C       NaN  pH 1                      NaN   \n",
       "2               37.9       25 °C       NaN  pH 2                      NaN   \n",
       "3               38.5       25 °C       NaN  pH 3                      NaN   \n",
       "4               38.6       25 °C       NaN  pH 4                      NaN   \n",
       "..               ...         ...       ...   ...                      ...   \n",
       "66            306.34         NaN       NaN   NaN                      NaN   \n",
       "67            118 A2         NaN       NaN   NaN                      NaN   \n",
       "68     444.8±55.0 °C         NaN  760 Torr   NaN                      NaN   \n",
       "69  70.27±3.0 kJ/mol         NaN  760 Torr   NaN                      NaN   \n",
       "70     222.8±31.5 °C         NaN       NaN   NaN                      NaN   \n",
       "\n",
       "    Solvent  Wavelength  Pathlength  Concentration  Organism  Route  \\\n",
       "0       NaN         NaN         NaN            NaN       NaN    NaN   \n",
       "1       NaN         NaN         NaN            NaN       NaN    NaN   \n",
       "2       NaN         NaN         NaN            NaN       NaN    NaN   \n",
       "3       NaN         NaN         NaN            NaN       NaN    NaN   \n",
       "4       NaN         NaN         NaN            NaN       NaN    NaN   \n",
       "..      ...         ...         ...            ...       ...    ...   \n",
       "66      NaN         NaN         NaN            NaN       NaN    NaN   \n",
       "67      NaN         NaN         NaN            NaN       NaN    NaN   \n",
       "68      NaN         NaN         NaN            NaN       NaN    NaN   \n",
       "69      NaN         NaN         NaN            NaN       NaN    NaN   \n",
       "70      NaN         NaN         NaN            NaN       NaN    NaN   \n",
       "\n",
       "   Attribution                                             Source  \n",
       "0          CAS                                           1 Source  \n",
       "1          ACD  Calculated using Advanced Chemistry Developmen...  \n",
       "2          ACD  Calculated using Advanced Chemistry Developmen...  \n",
       "3          ACD  Calculated using Advanced Chemistry Developmen...  \n",
       "4          ACD  Calculated using Advanced Chemistry Developmen...  \n",
       "..         ...                                                ...  \n",
       "66         NaN                                                NaN  \n",
       "67         ACD  Calculated using Advanced Chemistry Developmen...  \n",
       "68         ACD  Calculated using Advanced Chemistry Developmen...  \n",
       "69         ACD  Calculated using Advanced Chemistry Developmen...  \n",
       "70         ACD  Calculated using Advanced Chemistry Developmen...  \n",
       "\n",
       "[71 rows x 16 columns]"
      ]
     },
     "execution_count": 55,
     "metadata": {},
     "output_type": "execute_result"
    }
   ],
   "source": [
    "example"
   ]
  },
  {
   "cell_type": "code",
   "execution_count": 76,
   "metadata": {},
   "outputs": [
    {
     "data": {
      "text/html": [
       "<div>\n",
       "<style scoped>\n",
       "    .dataframe tbody tr th:only-of-type {\n",
       "        vertical-align: middle;\n",
       "    }\n",
       "\n",
       "    .dataframe tbody tr th {\n",
       "        vertical-align: top;\n",
       "    }\n",
       "\n",
       "    .dataframe thead th {\n",
       "        text-align: right;\n",
       "    }\n",
       "</style>\n",
       "<table border=\"1\" class=\"dataframe\">\n",
       "  <thead>\n",
       "    <tr style=\"text-align: right;\">\n",
       "      <th></th>\n",
       "      <th>Density</th>\n",
       "      <th>Molar Volume</th>\n",
       "      <th>Freely Rotatable Bonds</th>\n",
       "      <th>H Acceptors</th>\n",
       "      <th>H Donors</th>\n",
       "      <th>Molecular Weight</th>\n",
       "      <th>Polar Surface Area</th>\n",
       "      <th>Boiling Point</th>\n",
       "    </tr>\n",
       "  </thead>\n",
       "  <tbody>\n",
       "    <tr>\n",
       "      <th>0</th>\n",
       "      <td>1.799</td>\n",
       "      <td>167.9</td>\n",
       "      <td>6.0</td>\n",
       "      <td>7.0</td>\n",
       "      <td>5.0</td>\n",
       "      <td>302.24</td>\n",
       "      <td>127.0</td>\n",
       "      <td>642.4</td>\n",
       "    </tr>\n",
       "    <tr>\n",
       "      <th>1</th>\n",
       "      <td>0.990</td>\n",
       "      <td>107.9</td>\n",
       "      <td>1.0</td>\n",
       "      <td>1.0</td>\n",
       "      <td>2.0</td>\n",
       "      <td>107.15</td>\n",
       "      <td>26.0</td>\n",
       "      <td>NaN</td>\n",
       "    </tr>\n",
       "    <tr>\n",
       "      <th>2</th>\n",
       "      <td>1.079</td>\n",
       "      <td>183.8</td>\n",
       "      <td>2.0</td>\n",
       "      <td>1.0</td>\n",
       "      <td>0.0</td>\n",
       "      <td>196.24</td>\n",
       "      <td>17.1</td>\n",
       "      <td>218.6</td>\n",
       "    </tr>\n",
       "    <tr>\n",
       "      <th>3</th>\n",
       "      <td>1.265</td>\n",
       "      <td>109.2</td>\n",
       "      <td>1.0</td>\n",
       "      <td>2.0</td>\n",
       "      <td>2.0</td>\n",
       "      <td>138.19</td>\n",
       "      <td>71.0</td>\n",
       "      <td>278.9</td>\n",
       "    </tr>\n",
       "    <tr>\n",
       "      <th>4</th>\n",
       "      <td>1.328</td>\n",
       "      <td>156.6</td>\n",
       "      <td>0.0</td>\n",
       "      <td>2.0</td>\n",
       "      <td>0.0</td>\n",
       "      <td>208.21</td>\n",
       "      <td>34.1</td>\n",
       "      <td>406.0</td>\n",
       "    </tr>\n",
       "  </tbody>\n",
       "</table>\n",
       "</div>"
      ],
      "text/plain": [
       "   Density  Molar Volume  Freely Rotatable Bonds  H Acceptors  H Donors  \\\n",
       "0    1.799         167.9                     6.0          7.0       5.0   \n",
       "1    0.990         107.9                     1.0          1.0       2.0   \n",
       "2    1.079         183.8                     2.0          1.0       0.0   \n",
       "3    1.265         109.2                     1.0          2.0       2.0   \n",
       "4    1.328         156.6                     0.0          2.0       0.0   \n",
       "\n",
       "   Molecular Weight  Polar Surface Area  Boiling Point  \n",
       "0            302.24               127.0          642.4  \n",
       "1            107.15                26.0            NaN  \n",
       "2            196.24                17.1          218.6  \n",
       "3            138.19                71.0          278.9  \n",
       "4            208.21                34.1          406.0  "
      ]
     },
     "execution_count": 76,
     "metadata": {},
     "output_type": "execute_result"
    }
   ],
   "source": [
    "data.head()"
   ]
  },
  {
   "cell_type": "code",
   "execution_count": 77,
   "metadata": {},
   "outputs": [
    {
     "data": {
      "text/plain": [
       "Density                    460\n",
       "Molar Volume               466\n",
       "Freely Rotatable Bonds     333\n",
       "H Acceptors                333\n",
       "H Donors                   333\n",
       "Molecular Weight           256\n",
       "Polar Surface Area         333\n",
       "Boiling Point             1300\n",
       "dtype: int64"
      ]
     },
     "execution_count": 77,
     "metadata": {},
     "output_type": "execute_result"
    }
   ],
   "source": [
    "data.isnull().sum()"
   ]
  },
  {
   "cell_type": "code",
   "execution_count": 86,
   "metadata": {},
   "outputs": [],
   "source": [
    "dataDropped = data.dropna(axis = 0)"
   ]
  },
  {
   "cell_type": "code",
   "execution_count": 87,
   "metadata": {},
   "outputs": [
    {
     "data": {
      "text/html": [
       "<div>\n",
       "<style scoped>\n",
       "    .dataframe tbody tr th:only-of-type {\n",
       "        vertical-align: middle;\n",
       "    }\n",
       "\n",
       "    .dataframe tbody tr th {\n",
       "        vertical-align: top;\n",
       "    }\n",
       "\n",
       "    .dataframe thead th {\n",
       "        text-align: right;\n",
       "    }\n",
       "</style>\n",
       "<table border=\"1\" class=\"dataframe\">\n",
       "  <thead>\n",
       "    <tr style=\"text-align: right;\">\n",
       "      <th></th>\n",
       "      <th>Density</th>\n",
       "      <th>Molar Volume</th>\n",
       "      <th>Freely Rotatable Bonds</th>\n",
       "      <th>H Acceptors</th>\n",
       "      <th>H Donors</th>\n",
       "      <th>Molecular Weight</th>\n",
       "      <th>Polar Surface Area</th>\n",
       "      <th>Boiling Point</th>\n",
       "    </tr>\n",
       "  </thead>\n",
       "  <tbody>\n",
       "    <tr>\n",
       "      <th>0</th>\n",
       "      <td>1.799</td>\n",
       "      <td>167.9</td>\n",
       "      <td>6.0</td>\n",
       "      <td>7.0</td>\n",
       "      <td>5.0</td>\n",
       "      <td>302.24</td>\n",
       "      <td>127.0</td>\n",
       "      <td>642.4</td>\n",
       "    </tr>\n",
       "    <tr>\n",
       "      <th>2</th>\n",
       "      <td>1.079</td>\n",
       "      <td>183.8</td>\n",
       "      <td>2.0</td>\n",
       "      <td>1.0</td>\n",
       "      <td>0.0</td>\n",
       "      <td>196.24</td>\n",
       "      <td>17.1</td>\n",
       "      <td>218.6</td>\n",
       "    </tr>\n",
       "    <tr>\n",
       "      <th>3</th>\n",
       "      <td>1.265</td>\n",
       "      <td>109.2</td>\n",
       "      <td>1.0</td>\n",
       "      <td>2.0</td>\n",
       "      <td>2.0</td>\n",
       "      <td>138.19</td>\n",
       "      <td>71.0</td>\n",
       "      <td>278.9</td>\n",
       "    </tr>\n",
       "    <tr>\n",
       "      <th>4</th>\n",
       "      <td>1.328</td>\n",
       "      <td>156.6</td>\n",
       "      <td>0.0</td>\n",
       "      <td>2.0</td>\n",
       "      <td>0.0</td>\n",
       "      <td>208.21</td>\n",
       "      <td>34.1</td>\n",
       "      <td>406.0</td>\n",
       "    </tr>\n",
       "    <tr>\n",
       "      <th>5</th>\n",
       "      <td>1.331</td>\n",
       "      <td>143.1</td>\n",
       "      <td>1.0</td>\n",
       "      <td>2.0</td>\n",
       "      <td>0.0</td>\n",
       "      <td>190.65</td>\n",
       "      <td>42.5</td>\n",
       "      <td>330.2</td>\n",
       "    </tr>\n",
       "    <tr>\n",
       "      <th>...</th>\n",
       "      <td>...</td>\n",
       "      <td>...</td>\n",
       "      <td>...</td>\n",
       "      <td>...</td>\n",
       "      <td>...</td>\n",
       "      <td>...</td>\n",
       "      <td>...</td>\n",
       "      <td>...</td>\n",
       "    </tr>\n",
       "    <tr>\n",
       "      <th>9994</th>\n",
       "      <td>1.630</td>\n",
       "      <td>128.1</td>\n",
       "      <td>3.0</td>\n",
       "      <td>7.0</td>\n",
       "      <td>1.0</td>\n",
       "      <td>209.16</td>\n",
       "      <td>93.1</td>\n",
       "      <td>488.8</td>\n",
       "    </tr>\n",
       "    <tr>\n",
       "      <th>9996</th>\n",
       "      <td>1.892</td>\n",
       "      <td>113.2</td>\n",
       "      <td>1.0</td>\n",
       "      <td>0.0</td>\n",
       "      <td>0.0</td>\n",
       "      <td>214.43</td>\n",
       "      <td>0.0</td>\n",
       "      <td>175.8</td>\n",
       "    </tr>\n",
       "    <tr>\n",
       "      <th>9997</th>\n",
       "      <td>1.475</td>\n",
       "      <td>104.7</td>\n",
       "      <td>0.0</td>\n",
       "      <td>3.0</td>\n",
       "      <td>0.0</td>\n",
       "      <td>154.55</td>\n",
       "      <td>38.9</td>\n",
       "      <td>322.4</td>\n",
       "    </tr>\n",
       "    <tr>\n",
       "      <th>9998</th>\n",
       "      <td>1.403</td>\n",
       "      <td>517.7</td>\n",
       "      <td>17.0</td>\n",
       "      <td>11.0</td>\n",
       "      <td>4.0</td>\n",
       "      <td>726.73</td>\n",
       "      <td>161.0</td>\n",
       "      <td>942.0</td>\n",
       "    </tr>\n",
       "    <tr>\n",
       "      <th>9999</th>\n",
       "      <td>1.124</td>\n",
       "      <td>351.5</td>\n",
       "      <td>7.0</td>\n",
       "      <td>5.0</td>\n",
       "      <td>1.0</td>\n",
       "      <td>395.49</td>\n",
       "      <td>56.8</td>\n",
       "      <td>541.5</td>\n",
       "    </tr>\n",
       "  </tbody>\n",
       "</table>\n",
       "<p>8589 rows × 8 columns</p>\n",
       "</div>"
      ],
      "text/plain": [
       "      Density  Molar Volume  Freely Rotatable Bonds  H Acceptors  H Donors  \\\n",
       "0       1.799         167.9                     6.0          7.0       5.0   \n",
       "2       1.079         183.8                     2.0          1.0       0.0   \n",
       "3       1.265         109.2                     1.0          2.0       2.0   \n",
       "4       1.328         156.6                     0.0          2.0       0.0   \n",
       "5       1.331         143.1                     1.0          2.0       0.0   \n",
       "...       ...           ...                     ...          ...       ...   \n",
       "9994    1.630         128.1                     3.0          7.0       1.0   \n",
       "9996    1.892         113.2                     1.0          0.0       0.0   \n",
       "9997    1.475         104.7                     0.0          3.0       0.0   \n",
       "9998    1.403         517.7                    17.0         11.0       4.0   \n",
       "9999    1.124         351.5                     7.0          5.0       1.0   \n",
       "\n",
       "      Molecular Weight  Polar Surface Area  Boiling Point  \n",
       "0               302.24               127.0          642.4  \n",
       "2               196.24                17.1          218.6  \n",
       "3               138.19                71.0          278.9  \n",
       "4               208.21                34.1          406.0  \n",
       "5               190.65                42.5          330.2  \n",
       "...                ...                 ...            ...  \n",
       "9994            209.16                93.1          488.8  \n",
       "9996            214.43                 0.0          175.8  \n",
       "9997            154.55                38.9          322.4  \n",
       "9998            726.73               161.0          942.0  \n",
       "9999            395.49                56.8          541.5  \n",
       "\n",
       "[8589 rows x 8 columns]"
      ]
     },
     "execution_count": 87,
     "metadata": {},
     "output_type": "execute_result"
    }
   ],
   "source": [
    "dataDropped"
   ]
  },
  {
   "cell_type": "code",
   "execution_count": 88,
   "metadata": {},
   "outputs": [],
   "source": [
    "%matplotlib inline"
   ]
  },
  {
   "cell_type": "code",
   "execution_count": 187,
   "metadata": {},
   "outputs": [
    {
     "data": {
      "text/plain": [
       "<matplotlib.axes._subplots.AxesSubplot at 0x172e5798e08>"
      ]
     },
     "execution_count": 187,
     "metadata": {},
     "output_type": "execute_result"
    },
    {
     "data": {
      "image/png": "[encoded data removed]",
      "text/plain": [
       "<Figure size 1080x1080 with 2 Axes>"
      ]
     },
     "metadata": {},
     "output_type": "display_data"
    }
   ],
   "source": [
    "plt.figure(figsize=(15,15))\n",
    "plt.title('Corr of Each Parameters', fontdict={'fontsize': 32})\n",
    "sns.set(font_scale=2)\n",
    "sns.heatmap(data = dataDropped.corr(), annot=True, \n",
    "fmt = '.2f', linewidths=.5, cmap='Blues')"
   ]
  },
  {
   "cell_type": "code",
   "execution_count": 92,
   "metadata": {},
   "outputs": [
    {
     "data": {
      "text/html": [
       "<div>\n",
       "<style scoped>\n",
       "    .dataframe tbody tr th:only-of-type {\n",
       "        vertical-align: middle;\n",
       "    }\n",
       "\n",
       "    .dataframe tbody tr th {\n",
       "        vertical-align: top;\n",
       "    }\n",
       "\n",
       "    .dataframe thead th {\n",
       "        text-align: right;\n",
       "    }\n",
       "</style>\n",
       "<table border=\"1\" class=\"dataframe\">\n",
       "  <thead>\n",
       "    <tr style=\"text-align: right;\">\n",
       "      <th></th>\n",
       "      <th>Density</th>\n",
       "      <th>Molar Volume</th>\n",
       "      <th>Freely Rotatable Bonds</th>\n",
       "      <th>H Acceptors</th>\n",
       "      <th>H Donors</th>\n",
       "      <th>Molecular Weight</th>\n",
       "      <th>Polar Surface Area</th>\n",
       "      <th>Boiling Point</th>\n",
       "    </tr>\n",
       "  </thead>\n",
       "  <tbody>\n",
       "    <tr>\n",
       "      <th>count</th>\n",
       "      <td>8589.000000</td>\n",
       "      <td>8589.000000</td>\n",
       "      <td>8589.000000</td>\n",
       "      <td>8589.000000</td>\n",
       "      <td>8589.000000</td>\n",
       "      <td>8589.000000</td>\n",
       "      <td>8589.000000</td>\n",
       "      <td>8589.000000</td>\n",
       "    </tr>\n",
       "    <tr>\n",
       "      <th>mean</th>\n",
       "      <td>1.340224</td>\n",
       "      <td>228.594877</td>\n",
       "      <td>4.293515</td>\n",
       "      <td>4.630807</td>\n",
       "      <td>1.056933</td>\n",
       "      <td>303.741771</td>\n",
       "      <td>69.761773</td>\n",
       "      <td>451.896253</td>\n",
       "    </tr>\n",
       "    <tr>\n",
       "      <th>std</th>\n",
       "      <td>0.246434</td>\n",
       "      <td>93.793386</td>\n",
       "      <td>3.521725</td>\n",
       "      <td>2.984362</td>\n",
       "      <td>1.550244</td>\n",
       "      <td>128.187316</td>\n",
       "      <td>45.173897</td>\n",
       "      <td>163.269917</td>\n",
       "    </tr>\n",
       "    <tr>\n",
       "      <th>min</th>\n",
       "      <td>0.758000</td>\n",
       "      <td>49.500000</td>\n",
       "      <td>0.000000</td>\n",
       "      <td>0.000000</td>\n",
       "      <td>0.000000</td>\n",
       "      <td>68.120000</td>\n",
       "      <td>0.000000</td>\n",
       "      <td>-5.400000</td>\n",
       "    </tr>\n",
       "    <tr>\n",
       "      <th>25%</th>\n",
       "      <td>1.180000</td>\n",
       "      <td>167.300000</td>\n",
       "      <td>2.000000</td>\n",
       "      <td>3.000000</td>\n",
       "      <td>0.000000</td>\n",
       "      <td>218.290000</td>\n",
       "      <td>40.900000</td>\n",
       "      <td>344.500000</td>\n",
       "    </tr>\n",
       "    <tr>\n",
       "      <th>50%</th>\n",
       "      <td>1.306000</td>\n",
       "      <td>210.200000</td>\n",
       "      <td>4.000000</td>\n",
       "      <td>4.000000</td>\n",
       "      <td>1.000000</td>\n",
       "      <td>279.330000</td>\n",
       "      <td>62.700000</td>\n",
       "      <td>436.500000</td>\n",
       "    </tr>\n",
       "    <tr>\n",
       "      <th>75%</th>\n",
       "      <td>1.450000</td>\n",
       "      <td>266.100000</td>\n",
       "      <td>6.000000</td>\n",
       "      <td>6.000000</td>\n",
       "      <td>2.000000</td>\n",
       "      <td>356.180000</td>\n",
       "      <td>87.700000</td>\n",
       "      <td>538.200000</td>\n",
       "    </tr>\n",
       "    <tr>\n",
       "      <th>max</th>\n",
       "      <td>3.307000</td>\n",
       "      <td>1169.000000</td>\n",
       "      <td>37.000000</td>\n",
       "      <td>32.000000</td>\n",
       "      <td>15.000000</td>\n",
       "      <td>1832.620000</td>\n",
       "      <td>459.000000</td>\n",
       "      <td>1489.800000</td>\n",
       "    </tr>\n",
       "  </tbody>\n",
       "</table>\n",
       "</div>"
      ],
      "text/plain": [
       "           Density  Molar Volume  Freely Rotatable Bonds  H Acceptors  \\\n",
       "count  8589.000000   8589.000000             8589.000000  8589.000000   \n",
       "mean      1.340224    228.594877                4.293515     4.630807   \n",
       "std       0.246434     93.793386                3.521725     2.984362   \n",
       "min       0.758000     49.500000                0.000000     0.000000   \n",
       "25%       1.180000    167.300000                2.000000     3.000000   \n",
       "50%       1.306000    210.200000                4.000000     4.000000   \n",
       "75%       1.450000    266.100000                6.000000     6.000000   \n",
       "max       3.307000   1169.000000               37.000000    32.000000   \n",
       "\n",
       "          H Donors  Molecular Weight  Polar Surface Area  Boiling Point  \n",
       "count  8589.000000       8589.000000         8589.000000    8589.000000  \n",
       "mean      1.056933        303.741771           69.761773     451.896253  \n",
       "std       1.550244        128.187316           45.173897     163.269917  \n",
       "min       0.000000         68.120000            0.000000      -5.400000  \n",
       "25%       0.000000        218.290000           40.900000     344.500000  \n",
       "50%       1.000000        279.330000           62.700000     436.500000  \n",
       "75%       2.000000        356.180000           87.700000     538.200000  \n",
       "max      15.000000       1832.620000          459.000000    1489.800000  "
      ]
     },
     "execution_count": 92,
     "metadata": {},
     "output_type": "execute_result"
    }
   ],
   "source": [
    "dataDropped.describe()"
   ]
  },
  {
   "cell_type": "code",
   "execution_count": 109,
   "metadata": {},
   "outputs": [],
   "source": [
    "import math"
   ]
  },
  {
   "cell_type": "code",
   "execution_count": 101,
   "metadata": {},
   "outputs": [
    {
     "data": {
      "image/png": "[encoded data removed]",
      "text/plain": [
       "<Figure size 432x288 with 1 Axes>"
      ]
     },
     "metadata": {
      "needs_background": "light"
     },
     "output_type": "display_data"
    }
   ],
   "source": [
    "plt.hist(dataDropped['Density'])\n",
    "plt.title('Density Distribution', fontdict={'fontsize': 20})\n",
    "plt.show()"
   ]
  },
  {
   "cell_type": "code",
   "execution_count": 110,
   "metadata": {},
   "outputs": [
    {
     "data": {
      "image/png": "[encoded data removed]",
      "text/plain": [
       "<Figure size 432x288 with 1 Axes>"
      ]
     },
     "metadata": {
      "needs_background": "light"
     },
     "output_type": "display_data"
    }
   ],
   "source": [
    "plt.hist(dataDropped['Density'].apply(lambda x : math.log(x)))\n",
    "plt.title('Density Distribution with Log', fontdict={'fontsize': 20})\n",
    "plt.show()"
   ]
  },
  {
   "cell_type": "code",
   "execution_count": 112,
   "metadata": {},
   "outputs": [
    {
     "data": {
      "image/png": "[encoded data removed]",
      "text/plain": [
       "<Figure size 432x288 with 1 Axes>"
      ]
     },
     "metadata": {
      "needs_background": "light"
     },
     "output_type": "display_data"
    }
   ],
   "source": [
    "plt.hist(dataDropped['Molar Volume'])\n",
    "plt.title('Molar Volume Distribution', fontdict={'fontsize': 20})\n",
    "plt.show()"
   ]
  },
  {
   "cell_type": "code",
   "execution_count": 111,
   "metadata": {},
   "outputs": [
    {
     "data": {
      "image/png": "[encoded data removed]",
      "text/plain": [
       "<Figure size 432x288 with 1 Axes>"
      ]
     },
     "metadata": {
      "needs_background": "light"
     },
     "output_type": "display_data"
    }
   ],
   "source": [
    "plt.hist(dataDropped['Molar Volume'].apply(lambda x : math.log(x)))\n",
    "plt.title('Molar Volume Distribution with Log', fontdict={'fontsize': 20})\n",
    "plt.show()"
   ]
  },
  {
   "cell_type": "code",
   "execution_count": 113,
   "metadata": {},
   "outputs": [
    {
     "data": {
      "image/png": "[encoded data removed]",
      "text/plain": [
       "<Figure size 432x288 with 1 Axes>"
      ]
     },
     "metadata": {
      "needs_background": "light"
     },
     "output_type": "display_data"
    }
   ],
   "source": [
    "plt.hist(dataDropped['Freely Rotatable Bonds'])\n",
    "plt.title('Freely Rotatable Bonds Distribution', fontdict={'fontsize': 20})\n",
    "plt.show()"
   ]
  },
  {
   "cell_type": "code",
   "execution_count": 119,
   "metadata": {},
   "outputs": [
    {
     "data": {
      "image/png": "[encoded data removed]",
      "text/plain": [
       "<Figure size 432x288 with 1 Axes>"
      ]
     },
     "metadata": {
      "needs_background": "light"
     },
     "output_type": "display_data"
    }
   ],
   "source": [
    "plt.hist(dataDropped['Freely Rotatable Bonds'].apply(lambda x : math.log(x+1)))\n",
    "plt.title('Freely Rotatable Bonds Distribution with Log', fontdict={'fontsize': 20})\n",
    "plt.show()"
   ]
  },
  {
   "cell_type": "code",
   "execution_count": 123,
   "metadata": {},
   "outputs": [
    {
     "data": {
      "image/png": "[encoded data removed]",
      "text/plain": [
       "<Figure size 432x288 with 1 Axes>"
      ]
     },
     "metadata": {
      "needs_background": "light"
     },
     "output_type": "display_data"
    }
   ],
   "source": [
    "plt.hist(dataDropped['H Acceptors'], bins = 14)\n",
    "plt.title('H Acceptors', fontdict={'fontsize': 20})\n",
    "plt.show()"
   ]
  },
  {
   "cell_type": "code",
   "execution_count": 122,
   "metadata": {},
   "outputs": [
    {
     "data": {
      "image/png": "[encoded data removed]",
      "text/plain": [
       "<Figure size 432x288 with 1 Axes>"
      ]
     },
     "metadata": {
      "needs_background": "light"
     },
     "output_type": "display_data"
    }
   ],
   "source": [
    "plt.hist(dataDropped['H Donors'], bins = 14)\n",
    "plt.title('H Donors', fontdict={'fontsize': 20})\n",
    "plt.show()"
   ]
  },
  {
   "cell_type": "code",
   "execution_count": 124,
   "metadata": {},
   "outputs": [
    {
     "data": {
      "image/png": "[encoded data removed]",
      "text/plain": [
       "<Figure size 432x288 with 1 Axes>"
      ]
     },
     "metadata": {
      "needs_background": "light"
     },
     "output_type": "display_data"
    }
   ],
   "source": [
    "plt.hist(dataDropped['Molecular Weight'], bins = 14)\n",
    "plt.title('Molecular Weight Distribution', fontdict={'fontsize': 20})\n",
    "plt.show()"
   ]
  },
  {
   "cell_type": "code",
   "execution_count": 126,
   "metadata": {},
   "outputs": [
    {
     "data": {
      "image/png": "[encoded data removed]",
      "text/plain": [
       "<Figure size 432x288 with 1 Axes>"
      ]
     },
     "metadata": {
      "needs_background": "light"
     },
     "output_type": "display_data"
    }
   ],
   "source": [
    "plt.hist(dataDropped['Molecular Weight'].apply(lambda x: math.log(x)), bins = 14)\n",
    "plt.title('Molecular Weight Distribution with Log', fontdict={'fontsize': 20})\n",
    "plt.show()"
   ]
  },
  {
   "cell_type": "code",
   "execution_count": 127,
   "metadata": {},
   "outputs": [
    {
     "data": {
      "image/png": "[encoded data removed]",
      "text/plain": [
       "<Figure size 432x288 with 1 Axes>"
      ]
     },
     "metadata": {
      "needs_background": "light"
     },
     "output_type": "display_data"
    }
   ],
   "source": [
    "plt.hist(dataDropped['Polar Surface Area'], bins = 14)\n",
    "plt.title('Polar Surface Area Distribution', fontdict={'fontsize': 20})\n",
    "plt.show()"
   ]
  },
  {
   "cell_type": "code",
   "execution_count": 189,
   "metadata": {},
   "outputs": [
    {
     "data": {
      "image/png": "[encoded data removed]",
      "text/plain": [
       "<Figure size 432x288 with 1 Axes>"
      ]
     },
     "metadata": {},
     "output_type": "display_data"
    }
   ],
   "source": [
    "plt.hist(dataDropped['Polar Surface Area'].apply(lambda x: math.log(x+1)), bins = 14)\n",
    "plt.title('Polar Surface Area Distribution with Log', fontdict={'fontsize': 20})\n",
    "plt.show()"
   ]
  },
  {
   "cell_type": "code",
   "execution_count": 130,
   "metadata": {},
   "outputs": [
    {
     "data": {
      "image/png": "[encoded data removed]",
      "text/plain": [
       "<Figure size 432x288 with 1 Axes>"
      ]
     },
     "metadata": {
      "needs_background": "light"
     },
     "output_type": "display_data"
    }
   ],
   "source": [
    "plt.hist(dataDropped['Boiling Point'], bins = 14)\n",
    "plt.title('Boiling Point Distribution', fontdict={'fontsize': 20})\n",
    "plt.show()"
   ]
  },
  {
   "cell_type": "code",
   "execution_count": 131,
   "metadata": {},
   "outputs": [
    {
     "data": {
      "image/png": "[encoded data removed]",
      "text/plain": [
       "<Figure size 432x288 with 1 Axes>"
      ]
     },
     "metadata": {
      "needs_background": "light"
     },
     "output_type": "display_data"
    }
   ],
   "source": [
    "plt.hist(dataDropped['Boiling Point'].apply(lambda x: math.log(x+273)), bins = 14)\n",
    "plt.title('Boiling Point Distribution', fontdict={'fontsize': 20})\n",
    "plt.show()"
   ]
  },
  {
   "cell_type": "code",
   "execution_count": 132,
   "metadata": {},
   "outputs": [
    {
     "name": "stdout",
     "output_type": "stream",
     "text": [
      "Requirement already satisfied: lightgbm in c:\\users\\kev22\\anaconda3\\lib\\site-packages (3.3.2)\n",
      "Requirement already satisfied: numpy in c:\\users\\kev22\\anaconda3\\lib\\site-packages (from lightgbm) (1.19.5)\n",
      "Requirement already satisfied: scikit-learn!=0.22.0 in c:\\users\\kev22\\anaconda3\\lib\\site-packages (from lightgbm) (0.22.1)\n",
      "Requirement already satisfied: scipy in c:\\users\\kev22\\anaconda3\\lib\\site-packages (from lightgbm) (1.4.1)\n",
      "Requirement already satisfied: wheel in c:\\users\\kev22\\anaconda3\\lib\\site-packages (from lightgbm) (0.37.0)\n",
      "Requirement already satisfied: joblib>=0.11 in c:\\users\\kev22\\anaconda3\\lib\\site-packages (from scikit-learn!=0.22.0->lightgbm) (0.14.1)\n"
     ]
    },
    {
     "name": "stderr",
     "output_type": "stream",
     "text": [
      "WARNING: Ignoring invalid distribution -umpy (c:\\users\\kev22\\anaconda3\\lib\\site-packages)\n",
      "WARNING: Ignoring invalid distribution -umpy (c:\\users\\kev22\\anaconda3\\lib\\site-packages)\n",
      "WARNING: Ignoring invalid distribution -umpy (c:\\users\\kev22\\anaconda3\\lib\\site-packages)\n",
      "WARNING: Ignoring invalid distribution -umpy (c:\\users\\kev22\\anaconda3\\lib\\site-packages)\n",
      "WARNING: Ignoring invalid distribution -umpy (c:\\users\\kev22\\anaconda3\\lib\\site-packages)\n",
      "WARNING: Ignoring invalid distribution -umpy (c:\\users\\kev22\\anaconda3\\lib\\site-packages)\n"
     ]
    }
   ],
   "source": [
    "!pip install lightgbm"
   ]
  },
  {
   "cell_type": "code",
   "execution_count": 174,
   "metadata": {},
   "outputs": [
    {
     "name": "stdout",
     "output_type": "stream",
     "text": [
      "[1]\ttraining's l2: 22369.8\tvalid_0's l2: 24067.6\n",
      "[2]\ttraining's l2: 19174.7\tvalid_0's l2: 20801.5\n",
      "[3]\ttraining's l2: 16551.9\tvalid_0's l2: 18074.4\n",
      "[4]\ttraining's l2: 14395.9\tvalid_0's l2: 15770.3\n",
      "[5]\ttraining's l2: 12603.8\tvalid_0's l2: 13877.4\n",
      "[6]\ttraining's l2: 11138.7\tvalid_0's l2: 12315.7\n",
      "[7]\ttraining's l2: 9931.71\tvalid_0's l2: 11043.2\n",
      "[8]\ttraining's l2: 8917.63\tvalid_0's l2: 9990.57\n",
      "[9]\ttraining's l2: 8074.45\tvalid_0's l2: 9144.95\n",
      "[10]\ttraining's l2: 7378.77\tvalid_0's l2: 8418.04\n",
      "[11]\ttraining's l2: 6784.42\tvalid_0's l2: 7814.54\n",
      "[12]\ttraining's l2: 6290.87\tvalid_0's l2: 7291.38\n",
      "[13]\ttraining's l2: 5880.92\tvalid_0's l2: 6881.65\n",
      "[14]\ttraining's l2: 5535.8\tvalid_0's l2: 6520.64\n",
      "[15]\ttraining's l2: 5239.39\tvalid_0's l2: 6191.24\n",
      "[16]\ttraining's l2: 4990.49\tvalid_0's l2: 5938.79\n",
      "[17]\ttraining's l2: 4775.31\tvalid_0's l2: 5741.42\n",
      "[18]\ttraining's l2: 4591.2\tvalid_0's l2: 5549.23\n",
      "[19]\ttraining's l2: 4431.36\tvalid_0's l2: 5367.64\n",
      "[20]\ttraining's l2: 4294.52\tvalid_0's l2: 5220.25\n",
      "[21]\ttraining's l2: 4179.75\tvalid_0's l2: 5103.95\n",
      "[22]\ttraining's l2: 4078.47\tvalid_0's l2: 5015.2\n",
      "[23]\ttraining's l2: 3990.45\tvalid_0's l2: 4919.01\n",
      "[24]\ttraining's l2: 3909.95\tvalid_0's l2: 4838.24\n",
      "[25]\ttraining's l2: 3842.38\tvalid_0's l2: 4773.42\n",
      "[26]\ttraining's l2: 3775.71\tvalid_0's l2: 4712.31\n",
      "[27]\ttraining's l2: 3716.57\tvalid_0's l2: 4664.01\n",
      "[28]\ttraining's l2: 3665.38\tvalid_0's l2: 4620.3\n",
      "[29]\ttraining's l2: 3619.51\tvalid_0's l2: 4575.97\n",
      "[30]\ttraining's l2: 3576.52\tvalid_0's l2: 4540.67\n",
      "[31]\ttraining's l2: 3538.37\tvalid_0's l2: 4506.7\n",
      "[32]\ttraining's l2: 3501.23\tvalid_0's l2: 4484.3\n",
      "[33]\ttraining's l2: 3465.48\tvalid_0's l2: 4461.41\n",
      "[34]\ttraining's l2: 3434.72\tvalid_0's l2: 4435.32\n",
      "[35]\ttraining's l2: 3406.28\tvalid_0's l2: 4420.1\n",
      "[36]\ttraining's l2: 3378.51\tvalid_0's l2: 4394.21\n",
      "[37]\ttraining's l2: 3354.82\tvalid_0's l2: 4375.83\n",
      "[38]\ttraining's l2: 3334.45\tvalid_0's l2: 4355.84\n",
      "[39]\ttraining's l2: 3308.1\tvalid_0's l2: 4341.61\n",
      "[40]\ttraining's l2: 3285.79\tvalid_0's l2: 4333.33\n",
      "[41]\ttraining's l2: 3265.19\tvalid_0's l2: 4318.14\n",
      "[42]\ttraining's l2: 3245.42\tvalid_0's l2: 4303.48\n",
      "[43]\ttraining's l2: 3223.88\tvalid_0's l2: 4300.37\n",
      "[44]\ttraining's l2: 3204.41\tvalid_0's l2: 4289.2\n",
      "[45]\ttraining's l2: 3181.35\tvalid_0's l2: 4276.3\n",
      "[46]\ttraining's l2: 3166.47\tvalid_0's l2: 4272.88\n",
      "[47]\ttraining's l2: 3148.09\tvalid_0's l2: 4258.4\n",
      "[48]\ttraining's l2: 3132.12\tvalid_0's l2: 4252.87\n",
      "[49]\ttraining's l2: 3116.07\tvalid_0's l2: 4243.45\n",
      "[50]\ttraining's l2: 3101.77\tvalid_0's l2: 4237.04\n",
      "[51]\ttraining's l2: 3086.82\tvalid_0's l2: 4228.33\n",
      "[52]\ttraining's l2: 3074.76\tvalid_0's l2: 4227.56\n",
      "[53]\ttraining's l2: 3058.13\tvalid_0's l2: 4225.27\n",
      "[54]\ttraining's l2: 3044.61\tvalid_0's l2: 4224.19\n",
      "[55]\ttraining's l2: 3031.29\tvalid_0's l2: 4222.2\n",
      "[56]\ttraining's l2: 3019.03\tvalid_0's l2: 4221.54\n",
      "[57]\ttraining's l2: 3007.67\tvalid_0's l2: 4215.33\n",
      "[58]\ttraining's l2: 2996.32\tvalid_0's l2: 4207.25\n",
      "[59]\ttraining's l2: 2982.79\tvalid_0's l2: 4200.8\n",
      "[60]\ttraining's l2: 2971.97\tvalid_0's l2: 4200.17\n",
      "[61]\ttraining's l2: 2961.18\tvalid_0's l2: 4196.95\n",
      "[62]\ttraining's l2: 2950.06\tvalid_0's l2: 4196.61\n",
      "[63]\ttraining's l2: 2937.8\tvalid_0's l2: 4198.04\n",
      "[64]\ttraining's l2: 2926.57\tvalid_0's l2: 4198.86\n",
      "[65]\ttraining's l2: 2917.87\tvalid_0's l2: 4194.9\n",
      "[66]\ttraining's l2: 2909.23\tvalid_0's l2: 4190.78\n",
      "[67]\ttraining's l2: 2898.7\tvalid_0's l2: 4191.62\n",
      "[68]\ttraining's l2: 2885.62\tvalid_0's l2: 4189.97\n",
      "[69]\ttraining's l2: 2876.59\tvalid_0's l2: 4189.33\n",
      "[70]\ttraining's l2: 2864.98\tvalid_0's l2: 4185.05\n",
      "[71]\ttraining's l2: 2854.37\tvalid_0's l2: 4186.04\n",
      "[72]\ttraining's l2: 2843.4\tvalid_0's l2: 4185.97\n",
      "[73]\ttraining's l2: 2832.83\tvalid_0's l2: 4181.52\n",
      "[74]\ttraining's l2: 2825.27\tvalid_0's l2: 4177.58\n",
      "[75]\ttraining's l2: 2815.43\tvalid_0's l2: 4181.08\n",
      "[76]\ttraining's l2: 2806.23\tvalid_0's l2: 4176.36\n",
      "[77]\ttraining's l2: 2798.45\tvalid_0's l2: 4172.66\n",
      "[78]\ttraining's l2: 2789.43\tvalid_0's l2: 4170.01\n",
      "[79]\ttraining's l2: 2773.87\tvalid_0's l2: 4170.19\n",
      "[80]\ttraining's l2: 2767.52\tvalid_0's l2: 4171.42\n",
      "[81]\ttraining's l2: 2755.02\tvalid_0's l2: 4174.62\n",
      "[82]\ttraining's l2: 2747.2\tvalid_0's l2: 4175.25\n",
      "[83]\ttraining's l2: 2740.49\tvalid_0's l2: 4178.04\n",
      "[84]\ttraining's l2: 2731.19\tvalid_0's l2: 4178.63\n",
      "[85]\ttraining's l2: 2719.32\tvalid_0's l2: 4175.49\n",
      "[86]\ttraining's l2: 2710.75\tvalid_0's l2: 4175.57\n",
      "[87]\ttraining's l2: 2702.83\tvalid_0's l2: 4174.7\n",
      "[88]\ttraining's l2: 2694.83\tvalid_0's l2: 4171.72\n",
      "[89]\ttraining's l2: 2687.65\tvalid_0's l2: 4163.31\n",
      "[90]\ttraining's l2: 2679.37\tvalid_0's l2: 4165.17\n",
      "[91]\ttraining's l2: 2668.47\tvalid_0's l2: 4161.67\n",
      "[92]\ttraining's l2: 2662.19\tvalid_0's l2: 4157.93\n",
      "[93]\ttraining's l2: 2651.74\tvalid_0's l2: 4157.47\n",
      "[94]\ttraining's l2: 2646.26\tvalid_0's l2: 4152.47\n",
      "[95]\ttraining's l2: 2635.76\tvalid_0's l2: 4155.03\n",
      "[96]\ttraining's l2: 2627.76\tvalid_0's l2: 4150.87\n",
      "[97]\ttraining's l2: 2620.93\tvalid_0's l2: 4145.43\n",
      "[98]\ttraining's l2: 2612.84\tvalid_0's l2: 4150.45\n",
      "[99]\ttraining's l2: 2606.27\tvalid_0's l2: 4149.84\n",
      "[100]\ttraining's l2: 2599.65\tvalid_0's l2: 4147.38\n",
      "47.721185545659885\n",
      "64.40015503527394\n"
     ]
    }
   ],
   "source": [
    "X = dataDropped.drop(['Boiling Point'], axis =1)\n",
    "y = dataDropped['Boiling Point']\n",
    "from sklearn.model_selection import train_test_split\n",
    "X_train, X_test, y_train, y_test = train_test_split(X, y, random_state = 42, test_size=0.2)\n",
    "import lightgbm as lgb\n",
    "model = lgb.LGBMRegressor()\n",
    "model.fit(X_train, y_train, eval_set=[(X_test, y_test), (X_train, y_train)])\n",
    "y_pred = model.predict(X_test)\n",
    "from sklearn.metrics import mean_absolute_error as mae\n",
    "from sklearn.metrics import mean_squared_error as mse\n",
    "print(mae(y_test, y_pred))\n",
    "print(mse(y_test, y_pred)**0.5)"
   ]
  },
  {
   "cell_type": "code",
   "execution_count": 175,
   "metadata": {},
   "outputs": [
    {
     "data": {
      "text/plain": [
       "<matplotlib.axes._subplots.AxesSubplot at 0x172e5551908>"
      ]
     },
     "execution_count": 175,
     "metadata": {},
     "output_type": "execute_result"
    },
    {
     "data": {
      "image/png": "[encoded data removed]",
      "text/plain": [
       "<Figure size 432x288 with 1 Axes>"
      ]
     },
     "metadata": {
      "needs_background": "light"
     },
     "output_type": "display_data"
    }
   ],
   "source": [
    "lgb.plot_metric(model)"
   ]
  },
  {
   "cell_type": "code",
   "execution_count": 141,
   "metadata": {},
   "outputs": [],
   "source": [
    "dataConv = pd.DataFrame(columns = ['Density Conv.', 'Molar Volume Conv.', 'Freely Rotatable Bonds', 'H Acceptors', 'H Donors', 'Molecular Weight Conv.', 'Polar Surface Area Conv.', 'Boiling Point Conv.'])"
   ]
  },
  {
   "cell_type": "code",
   "execution_count": 142,
   "metadata": {},
   "outputs": [
    {
     "data": {
      "text/html": [
       "<div>\n",
       "<style scoped>\n",
       "    .dataframe tbody tr th:only-of-type {\n",
       "        vertical-align: middle;\n",
       "    }\n",
       "\n",
       "    .dataframe tbody tr th {\n",
       "        vertical-align: top;\n",
       "    }\n",
       "\n",
       "    .dataframe thead th {\n",
       "        text-align: right;\n",
       "    }\n",
       "</style>\n",
       "<table border=\"1\" class=\"dataframe\">\n",
       "  <thead>\n",
       "    <tr style=\"text-align: right;\">\n",
       "      <th></th>\n",
       "      <th>Density Conv.</th>\n",
       "      <th>Molar Volume Conv.</th>\n",
       "      <th>Freely Rotatable Bonds</th>\n",
       "      <th>H Acceptors</th>\n",
       "      <th>H Donors</th>\n",
       "      <th>Molecular Weight Conv.</th>\n",
       "      <th>Polar Surface Area Conv.</th>\n",
       "      <th>Boiling Point Conv.</th>\n",
       "    </tr>\n",
       "  </thead>\n",
       "  <tbody>\n",
       "  </tbody>\n",
       "</table>\n",
       "</div>"
      ],
      "text/plain": [
       "Empty DataFrame\n",
       "Columns: [Density Conv., Molar Volume Conv., Freely Rotatable Bonds, H Acceptors, H Donors, Molecular Weight Conv., Polar Surface Area Conv., Boiling Point Conv.]\n",
       "Index: []"
      ]
     },
     "execution_count": 142,
     "metadata": {},
     "output_type": "execute_result"
    }
   ],
   "source": [
    "dataConv"
   ]
  },
  {
   "cell_type": "code",
   "execution_count": 144,
   "metadata": {},
   "outputs": [],
   "source": [
    "dataConv['Density Conv.'] = np.log1p(dataDropped['Density'])\n",
    "dataConv['Molar Volume Conv.'] = np.log1p(dataDropped['Molar Volume'])\n",
    "dataConv['Freely Rotatable Bonds'] = dataDropped['Freely Rotatable Bonds']\n",
    "dataConv['H Acceptors'] = dataDropped['H Acceptors']\n",
    "dataConv['H Donors'] = dataDropped['H Donors']\n",
    "dataConv['Molecular Weight Conv.'] = np.log1p(dataDropped['Molecular Weight'])\n",
    "dataConv['Polar Surface Area Conv.'] = np.log1p(dataDropped['Polar Surface Area'])\n",
    "dataConv['Boiling Point Conv.'] = np.log1p(dataDropped['Boiling Point']+272)"
   ]
  },
  {
   "cell_type": "code",
   "execution_count": 145,
   "metadata": {},
   "outputs": [
    {
     "data": {
      "text/html": [
       "<div>\n",
       "<style scoped>\n",
       "    .dataframe tbody tr th:only-of-type {\n",
       "        vertical-align: middle;\n",
       "    }\n",
       "\n",
       "    .dataframe tbody tr th {\n",
       "        vertical-align: top;\n",
       "    }\n",
       "\n",
       "    .dataframe thead th {\n",
       "        text-align: right;\n",
       "    }\n",
       "</style>\n",
       "<table border=\"1\" class=\"dataframe\">\n",
       "  <thead>\n",
       "    <tr style=\"text-align: right;\">\n",
       "      <th></th>\n",
       "      <th>Density Conv.</th>\n",
       "      <th>Molar Volume Conv.</th>\n",
       "      <th>Freely Rotatable Bonds</th>\n",
       "      <th>H Acceptors</th>\n",
       "      <th>H Donors</th>\n",
       "      <th>Molecular Weight Conv.</th>\n",
       "      <th>Polar Surface Area Conv.</th>\n",
       "      <th>Boiling Point Conv.</th>\n",
       "    </tr>\n",
       "  </thead>\n",
       "  <tbody>\n",
       "    <tr>\n",
       "      <th>0</th>\n",
       "      <td>1.029262</td>\n",
       "      <td>5.129307</td>\n",
       "      <td>6.0</td>\n",
       "      <td>7.0</td>\n",
       "      <td>5.0</td>\n",
       "      <td>5.714525</td>\n",
       "      <td>4.852030</td>\n",
       "      <td>6.819361</td>\n",
       "    </tr>\n",
       "    <tr>\n",
       "      <th>2</th>\n",
       "      <td>0.731887</td>\n",
       "      <td>5.219274</td>\n",
       "      <td>2.0</td>\n",
       "      <td>1.0</td>\n",
       "      <td>0.0</td>\n",
       "      <td>5.284421</td>\n",
       "      <td>2.895912</td>\n",
       "      <td>6.197665</td>\n",
       "    </tr>\n",
       "    <tr>\n",
       "      <th>3</th>\n",
       "      <td>0.817575</td>\n",
       "      <td>4.702297</td>\n",
       "      <td>1.0</td>\n",
       "      <td>2.0</td>\n",
       "      <td>2.0</td>\n",
       "      <td>4.935840</td>\n",
       "      <td>4.276666</td>\n",
       "      <td>6.313367</td>\n",
       "    </tr>\n",
       "    <tr>\n",
       "      <th>4</th>\n",
       "      <td>0.845010</td>\n",
       "      <td>5.060060</td>\n",
       "      <td>0.0</td>\n",
       "      <td>2.0</td>\n",
       "      <td>0.0</td>\n",
       "      <td>5.343339</td>\n",
       "      <td>3.558201</td>\n",
       "      <td>6.520621</td>\n",
       "    </tr>\n",
       "    <tr>\n",
       "      <th>5</th>\n",
       "      <td>0.846297</td>\n",
       "      <td>4.970508</td>\n",
       "      <td>1.0</td>\n",
       "      <td>2.0</td>\n",
       "      <td>0.0</td>\n",
       "      <td>5.255671</td>\n",
       "      <td>3.772761</td>\n",
       "      <td>6.402249</td>\n",
       "    </tr>\n",
       "    <tr>\n",
       "      <th>...</th>\n",
       "      <td>...</td>\n",
       "      <td>...</td>\n",
       "      <td>...</td>\n",
       "      <td>...</td>\n",
       "      <td>...</td>\n",
       "      <td>...</td>\n",
       "      <td>...</td>\n",
       "      <td>...</td>\n",
       "    </tr>\n",
       "    <tr>\n",
       "      <th>9994</th>\n",
       "      <td>0.966984</td>\n",
       "      <td>4.860587</td>\n",
       "      <td>3.0</td>\n",
       "      <td>7.0</td>\n",
       "      <td>1.0</td>\n",
       "      <td>5.347869</td>\n",
       "      <td>4.544358</td>\n",
       "      <td>6.635684</td>\n",
       "    </tr>\n",
       "    <tr>\n",
       "      <th>9996</th>\n",
       "      <td>1.061948</td>\n",
       "      <td>4.737951</td>\n",
       "      <td>1.0</td>\n",
       "      <td>0.0</td>\n",
       "      <td>0.0</td>\n",
       "      <td>5.372636</td>\n",
       "      <td>0.000000</td>\n",
       "      <td>6.106577</td>\n",
       "    </tr>\n",
       "    <tr>\n",
       "      <th>9997</th>\n",
       "      <td>0.906240</td>\n",
       "      <td>4.660605</td>\n",
       "      <td>0.0</td>\n",
       "      <td>3.0</td>\n",
       "      <td>0.0</td>\n",
       "      <td>5.046967</td>\n",
       "      <td>3.686376</td>\n",
       "      <td>6.389233</td>\n",
       "    </tr>\n",
       "    <tr>\n",
       "      <th>9998</th>\n",
       "      <td>0.876718</td>\n",
       "      <td>6.251326</td>\n",
       "      <td>17.0</td>\n",
       "      <td>11.0</td>\n",
       "      <td>4.0</td>\n",
       "      <td>6.589930</td>\n",
       "      <td>5.087596</td>\n",
       "      <td>7.102499</td>\n",
       "    </tr>\n",
       "    <tr>\n",
       "      <th>9999</th>\n",
       "      <td>0.753301</td>\n",
       "      <td>5.865051</td>\n",
       "      <td>7.0</td>\n",
       "      <td>5.0</td>\n",
       "      <td>1.0</td>\n",
       "      <td>5.982651</td>\n",
       "      <td>4.056989</td>\n",
       "      <td>6.702574</td>\n",
       "    </tr>\n",
       "  </tbody>\n",
       "</table>\n",
       "<p>8589 rows × 8 columns</p>\n",
       "</div>"
      ],
      "text/plain": [
       "      Density Conv.  Molar Volume Conv.  Freely Rotatable Bonds  H Acceptors  \\\n",
       "0          1.029262            5.129307                     6.0          7.0   \n",
       "2          0.731887            5.219274                     2.0          1.0   \n",
       "3          0.817575            4.702297                     1.0          2.0   \n",
       "4          0.845010            5.060060                     0.0          2.0   \n",
       "5          0.846297            4.970508                     1.0          2.0   \n",
       "...             ...                 ...                     ...          ...   \n",
       "9994       0.966984            4.860587                     3.0          7.0   \n",
       "9996       1.061948            4.737951                     1.0          0.0   \n",
       "9997       0.906240            4.660605                     0.0          3.0   \n",
       "9998       0.876718            6.251326                    17.0         11.0   \n",
       "9999       0.753301            5.865051                     7.0          5.0   \n",
       "\n",
       "      H Donors  Molecular Weight Conv.  Polar Surface Area Conv.  \\\n",
       "0          5.0                5.714525                  4.852030   \n",
       "2          0.0                5.284421                  2.895912   \n",
       "3          2.0                4.935840                  4.276666   \n",
       "4          0.0                5.343339                  3.558201   \n",
       "5          0.0                5.255671                  3.772761   \n",
       "...        ...                     ...                       ...   \n",
       "9994       1.0                5.347869                  4.544358   \n",
       "9996       0.0                5.372636                  0.000000   \n",
       "9997       0.0                5.046967                  3.686376   \n",
       "9998       4.0                6.589930                  5.087596   \n",
       "9999       1.0                5.982651                  4.056989   \n",
       "\n",
       "      Boiling Point Conv.  \n",
       "0                6.819361  \n",
       "2                6.197665  \n",
       "3                6.313367  \n",
       "4                6.520621  \n",
       "5                6.402249  \n",
       "...                   ...  \n",
       "9994             6.635684  \n",
       "9996             6.106577  \n",
       "9997             6.389233  \n",
       "9998             7.102499  \n",
       "9999             6.702574  \n",
       "\n",
       "[8589 rows x 8 columns]"
      ]
     },
     "execution_count": 145,
     "metadata": {},
     "output_type": "execute_result"
    }
   ],
   "source": [
    "dataConv"
   ]
  },
  {
   "cell_type": "code",
   "execution_count": 146,
   "metadata": {},
   "outputs": [
    {
     "data": {
      "text/html": [
       "<div>\n",
       "<style scoped>\n",
       "    .dataframe tbody tr th:only-of-type {\n",
       "        vertical-align: middle;\n",
       "    }\n",
       "\n",
       "    .dataframe tbody tr th {\n",
       "        vertical-align: top;\n",
       "    }\n",
       "\n",
       "    .dataframe thead th {\n",
       "        text-align: right;\n",
       "    }\n",
       "</style>\n",
       "<table border=\"1\" class=\"dataframe\">\n",
       "  <thead>\n",
       "    <tr style=\"text-align: right;\">\n",
       "      <th></th>\n",
       "      <th>Density Conv.</th>\n",
       "      <th>Molar Volume Conv.</th>\n",
       "      <th>Freely Rotatable Bonds</th>\n",
       "      <th>H Acceptors</th>\n",
       "      <th>H Donors</th>\n",
       "      <th>Molecular Weight Conv.</th>\n",
       "      <th>Polar Surface Area Conv.</th>\n",
       "      <th>Boiling Point Conv.</th>\n",
       "    </tr>\n",
       "  </thead>\n",
       "  <tbody>\n",
       "    <tr>\n",
       "      <th>count</th>\n",
       "      <td>8589.000000</td>\n",
       "      <td>8589.000000</td>\n",
       "      <td>8589.000000</td>\n",
       "      <td>8589.000000</td>\n",
       "      <td>8589.000000</td>\n",
       "      <td>8589.000000</td>\n",
       "      <td>8589.000000</td>\n",
       "      <td>8589.000000</td>\n",
       "    </tr>\n",
       "    <tr>\n",
       "      <th>mean</th>\n",
       "      <td>0.845055</td>\n",
       "      <td>5.366545</td>\n",
       "      <td>4.293515</td>\n",
       "      <td>4.630807</td>\n",
       "      <td>1.056933</td>\n",
       "      <td>5.644341</td>\n",
       "      <td>4.018789</td>\n",
       "      <td>6.561594</td>\n",
       "    </tr>\n",
       "    <tr>\n",
       "      <th>std</th>\n",
       "      <td>0.100480</td>\n",
       "      <td>0.366055</td>\n",
       "      <td>3.521725</td>\n",
       "      <td>2.984362</td>\n",
       "      <td>1.550244</td>\n",
       "      <td>0.381646</td>\n",
       "      <td>0.851330</td>\n",
       "      <td>0.221208</td>\n",
       "    </tr>\n",
       "    <tr>\n",
       "      <th>min</th>\n",
       "      <td>0.564177</td>\n",
       "      <td>3.921973</td>\n",
       "      <td>0.000000</td>\n",
       "      <td>0.000000</td>\n",
       "      <td>0.000000</td>\n",
       "      <td>4.235844</td>\n",
       "      <td>0.000000</td>\n",
       "      <td>5.589493</td>\n",
       "    </tr>\n",
       "    <tr>\n",
       "      <th>25%</th>\n",
       "      <td>0.779325</td>\n",
       "      <td>5.125748</td>\n",
       "      <td>2.000000</td>\n",
       "      <td>3.000000</td>\n",
       "      <td>0.000000</td>\n",
       "      <td>5.390395</td>\n",
       "      <td>3.735286</td>\n",
       "      <td>6.425679</td>\n",
       "    </tr>\n",
       "    <tr>\n",
       "      <th>50%</th>\n",
       "      <td>0.835514</td>\n",
       "      <td>5.352806</td>\n",
       "      <td>4.000000</td>\n",
       "      <td>4.000000</td>\n",
       "      <td>1.000000</td>\n",
       "      <td>5.635967</td>\n",
       "      <td>4.154185</td>\n",
       "      <td>6.564560</td>\n",
       "    </tr>\n",
       "    <tr>\n",
       "      <th>75%</th>\n",
       "      <td>0.896088</td>\n",
       "      <td>5.587623</td>\n",
       "      <td>6.000000</td>\n",
       "      <td>6.000000</td>\n",
       "      <td>2.000000</td>\n",
       "      <td>5.878240</td>\n",
       "      <td>4.485260</td>\n",
       "      <td>6.698515</td>\n",
       "    </tr>\n",
       "    <tr>\n",
       "      <th>max</th>\n",
       "      <td>1.460242</td>\n",
       "      <td>7.064759</td>\n",
       "      <td>37.000000</td>\n",
       "      <td>32.000000</td>\n",
       "      <td>15.000000</td>\n",
       "      <td>7.514047</td>\n",
       "      <td>6.131226</td>\n",
       "      <td>7.474659</td>\n",
       "    </tr>\n",
       "  </tbody>\n",
       "</table>\n",
       "</div>"
      ],
      "text/plain": [
       "       Density Conv.  Molar Volume Conv.  Freely Rotatable Bonds  H Acceptors  \\\n",
       "count    8589.000000         8589.000000             8589.000000  8589.000000   \n",
       "mean        0.845055            5.366545                4.293515     4.630807   \n",
       "std         0.100480            0.366055                3.521725     2.984362   \n",
       "min         0.564177            3.921973                0.000000     0.000000   \n",
       "25%         0.779325            5.125748                2.000000     3.000000   \n",
       "50%         0.835514            5.352806                4.000000     4.000000   \n",
       "75%         0.896088            5.587623                6.000000     6.000000   \n",
       "max         1.460242            7.064759               37.000000    32.000000   \n",
       "\n",
       "          H Donors  Molecular Weight Conv.  Polar Surface Area Conv.  \\\n",
       "count  8589.000000             8589.000000               8589.000000   \n",
       "mean      1.056933                5.644341                  4.018789   \n",
       "std       1.550244                0.381646                  0.851330   \n",
       "min       0.000000                4.235844                  0.000000   \n",
       "25%       0.000000                5.390395                  3.735286   \n",
       "50%       1.000000                5.635967                  4.154185   \n",
       "75%       2.000000                5.878240                  4.485260   \n",
       "max      15.000000                7.514047                  6.131226   \n",
       "\n",
       "       Boiling Point Conv.  \n",
       "count          8589.000000  \n",
       "mean              6.561594  \n",
       "std               0.221208  \n",
       "min               5.589493  \n",
       "25%               6.425679  \n",
       "50%               6.564560  \n",
       "75%               6.698515  \n",
       "max               7.474659  "
      ]
     },
     "execution_count": 146,
     "metadata": {},
     "output_type": "execute_result"
    }
   ],
   "source": [
    "dataConv.describe()"
   ]
  },
  {
   "cell_type": "code",
   "execution_count": 176,
   "metadata": {},
   "outputs": [
    {
     "name": "stdout",
     "output_type": "stream",
     "text": [
      "[1]\ttraining's l2: 0.0414924\tvalid_0's l2: 0.0437949\n",
      "[2]\ttraining's l2: 0.0358358\tvalid_0's l2: 0.0379882\n",
      "[3]\ttraining's l2: 0.0312112\tvalid_0's l2: 0.0333081\n",
      "[4]\ttraining's l2: 0.0274145\tvalid_0's l2: 0.0294454\n",
      "[5]\ttraining's l2: 0.0242193\tvalid_0's l2: 0.0261833\n",
      "[6]\ttraining's l2: 0.0215909\tvalid_0's l2: 0.0235496\n",
      "[7]\ttraining's l2: 0.0194157\tvalid_0's l2: 0.021357\n",
      "[8]\ttraining's l2: 0.017632\tvalid_0's l2: 0.0195865\n",
      "[9]\ttraining's l2: 0.0161341\tvalid_0's l2: 0.0180759\n",
      "[10]\ttraining's l2: 0.0148924\tvalid_0's l2: 0.0167793\n",
      "[11]\ttraining's l2: 0.0138385\tvalid_0's l2: 0.0157326\n",
      "[12]\ttraining's l2: 0.012946\tvalid_0's l2: 0.0148336\n",
      "[13]\ttraining's l2: 0.0121893\tvalid_0's l2: 0.0140713\n",
      "[14]\ttraining's l2: 0.0115601\tvalid_0's l2: 0.0134758\n",
      "[15]\ttraining's l2: 0.0110325\tvalid_0's l2: 0.0129771\n",
      "[16]\ttraining's l2: 0.0105679\tvalid_0's l2: 0.012473\n",
      "[17]\ttraining's l2: 0.010179\tvalid_0's l2: 0.0121052\n",
      "[18]\ttraining's l2: 0.00983316\tvalid_0's l2: 0.0117671\n",
      "[19]\ttraining's l2: 0.00953393\tvalid_0's l2: 0.0114922\n",
      "[20]\ttraining's l2: 0.00928021\tvalid_0's l2: 0.011261\n",
      "[21]\ttraining's l2: 0.00905397\tvalid_0's l2: 0.011047\n",
      "[22]\ttraining's l2: 0.00884914\tvalid_0's l2: 0.0108472\n",
      "[23]\ttraining's l2: 0.00867841\tvalid_0's l2: 0.0106865\n",
      "[24]\ttraining's l2: 0.00851697\tvalid_0's l2: 0.0105381\n",
      "[25]\ttraining's l2: 0.00837649\tvalid_0's l2: 0.0104277\n",
      "[26]\ttraining's l2: 0.00825116\tvalid_0's l2: 0.0102975\n",
      "[27]\ttraining's l2: 0.00814471\tvalid_0's l2: 0.0102096\n",
      "[28]\ttraining's l2: 0.00802796\tvalid_0's l2: 0.0101074\n",
      "[29]\ttraining's l2: 0.00793544\tvalid_0's l2: 0.0100254\n",
      "[30]\ttraining's l2: 0.00784593\tvalid_0's l2: 0.00995909\n",
      "[31]\ttraining's l2: 0.00776304\tvalid_0's l2: 0.00991564\n",
      "[32]\ttraining's l2: 0.00768847\tvalid_0's l2: 0.0098665\n",
      "[33]\ttraining's l2: 0.00761752\tvalid_0's l2: 0.00983239\n",
      "[34]\ttraining's l2: 0.00755944\tvalid_0's l2: 0.00977322\n",
      "[35]\ttraining's l2: 0.00750755\tvalid_0's l2: 0.00974922\n",
      "[36]\ttraining's l2: 0.00745336\tvalid_0's l2: 0.00971211\n",
      "[37]\ttraining's l2: 0.00740942\tvalid_0's l2: 0.00969471\n",
      "[38]\ttraining's l2: 0.00736087\tvalid_0's l2: 0.00966828\n",
      "[39]\ttraining's l2: 0.00732343\tvalid_0's l2: 0.00964011\n",
      "[40]\ttraining's l2: 0.00726831\tvalid_0's l2: 0.00961621\n",
      "[41]\ttraining's l2: 0.00722555\tvalid_0's l2: 0.00960491\n",
      "[42]\ttraining's l2: 0.00719112\tvalid_0's l2: 0.00959591\n",
      "[43]\ttraining's l2: 0.00715277\tvalid_0's l2: 0.00958366\n",
      "[44]\ttraining's l2: 0.0071076\tvalid_0's l2: 0.00958212\n",
      "[45]\ttraining's l2: 0.00707244\tvalid_0's l2: 0.00957454\n",
      "[46]\ttraining's l2: 0.00703583\tvalid_0's l2: 0.00956767\n",
      "[47]\ttraining's l2: 0.00700623\tvalid_0's l2: 0.00955669\n",
      "[48]\ttraining's l2: 0.00695926\tvalid_0's l2: 0.00954941\n",
      "[49]\ttraining's l2: 0.00692414\tvalid_0's l2: 0.00954043\n",
      "[50]\ttraining's l2: 0.00689459\tvalid_0's l2: 0.00952652\n",
      "[51]\ttraining's l2: 0.00685968\tvalid_0's l2: 0.00952311\n",
      "[52]\ttraining's l2: 0.0068298\tvalid_0's l2: 0.00950894\n",
      "[53]\ttraining's l2: 0.00680269\tvalid_0's l2: 0.00950907\n",
      "[54]\ttraining's l2: 0.00677254\tvalid_0's l2: 0.00951159\n",
      "[55]\ttraining's l2: 0.00674071\tvalid_0's l2: 0.00950843\n",
      "[56]\ttraining's l2: 0.00670845\tvalid_0's l2: 0.00948897\n",
      "[57]\ttraining's l2: 0.00668355\tvalid_0's l2: 0.00948425\n",
      "[58]\ttraining's l2: 0.00665197\tvalid_0's l2: 0.00948804\n",
      "[59]\ttraining's l2: 0.00662383\tvalid_0's l2: 0.00948352\n",
      "[60]\ttraining's l2: 0.00660008\tvalid_0's l2: 0.00948489\n",
      "[61]\ttraining's l2: 0.006572\tvalid_0's l2: 0.00947003\n",
      "[62]\ttraining's l2: 0.00654955\tvalid_0's l2: 0.00946407\n",
      "[63]\ttraining's l2: 0.00652168\tvalid_0's l2: 0.00944638\n",
      "[64]\ttraining's l2: 0.00649706\tvalid_0's l2: 0.00943946\n",
      "[65]\ttraining's l2: 0.00646572\tvalid_0's l2: 0.00944317\n",
      "[66]\ttraining's l2: 0.00644161\tvalid_0's l2: 0.00944032\n",
      "[67]\ttraining's l2: 0.00641343\tvalid_0's l2: 0.00943743\n",
      "[68]\ttraining's l2: 0.00639676\tvalid_0's l2: 0.00943553\n",
      "[69]\ttraining's l2: 0.00637414\tvalid_0's l2: 0.00943485\n",
      "[70]\ttraining's l2: 0.00635475\tvalid_0's l2: 0.00942998\n",
      "[71]\ttraining's l2: 0.00633029\tvalid_0's l2: 0.00942949\n",
      "[72]\ttraining's l2: 0.0063044\tvalid_0's l2: 0.00942286\n",
      "[73]\ttraining's l2: 0.00628217\tvalid_0's l2: 0.00942781\n",
      "[74]\ttraining's l2: 0.00625753\tvalid_0's l2: 0.00941856\n",
      "[75]\ttraining's l2: 0.00623493\tvalid_0's l2: 0.00940805\n",
      "[76]\ttraining's l2: 0.0062128\tvalid_0's l2: 0.00941006\n",
      "[77]\ttraining's l2: 0.0061847\tvalid_0's l2: 0.00941583\n",
      "[78]\ttraining's l2: 0.00615869\tvalid_0's l2: 0.0094129\n",
      "[79]\ttraining's l2: 0.00614048\tvalid_0's l2: 0.00940918\n",
      "[80]\ttraining's l2: 0.00611906\tvalid_0's l2: 0.00942166\n",
      "[81]\ttraining's l2: 0.00609072\tvalid_0's l2: 0.00942837\n",
      "[82]\ttraining's l2: 0.00607429\tvalid_0's l2: 0.00942801\n",
      "[83]\ttraining's l2: 0.0060516\tvalid_0's l2: 0.00943782\n",
      "[84]\ttraining's l2: 0.00603423\tvalid_0's l2: 0.00943762\n",
      "[85]\ttraining's l2: 0.00601218\tvalid_0's l2: 0.00943876\n",
      "[86]\ttraining's l2: 0.00599363\tvalid_0's l2: 0.00943401\n",
      "[87]\ttraining's l2: 0.00596378\tvalid_0's l2: 0.00942242\n",
      "[88]\ttraining's l2: 0.00595249\tvalid_0's l2: 0.00942443\n",
      "[89]\ttraining's l2: 0.00592953\tvalid_0's l2: 0.00942094\n",
      "[90]\ttraining's l2: 0.005908\tvalid_0's l2: 0.00942527\n",
      "[91]\ttraining's l2: 0.00588939\tvalid_0's l2: 0.0094236\n",
      "[92]\ttraining's l2: 0.0058692\tvalid_0's l2: 0.00941591\n",
      "[93]\ttraining's l2: 0.00584674\tvalid_0's l2: 0.00939692\n",
      "[94]\ttraining's l2: 0.00582596\tvalid_0's l2: 0.00939801\n",
      "[95]\ttraining's l2: 0.00581542\tvalid_0's l2: 0.0093942\n",
      "[96]\ttraining's l2: 0.0057941\tvalid_0's l2: 0.00939617\n",
      "[97]\ttraining's l2: 0.00577713\tvalid_0's l2: 0.00939888\n",
      "[98]\ttraining's l2: 0.00575747\tvalid_0's l2: 0.00940466\n",
      "[99]\ttraining's l2: 0.00574309\tvalid_0's l2: 0.00940862\n",
      "[100]\ttraining's l2: 0.00573103\tvalid_0's l2: 0.00941519\n",
      "48.288152430603006\n",
      "64.8478034977744\n"
     ]
    }
   ],
   "source": [
    "X = dataConv.drop(['Boiling Point Conv.'], axis =1)\n",
    "y = dataConv['Boiling Point Conv.']\n",
    "X_train, X_test, y_train, y_test = train_test_split(X, y, random_state = 42, test_size=0.2)\n",
    "model2 = lgb.LGBMRegressor()\n",
    "model2.fit(X_train, y_train, eval_set=[(X_test, y_test), (X_train, y_train)])\n",
    "y_pred = model2.predict(X_test)\n",
    "y_test_exp = np.expm1(y_test)-272\n",
    "y_pred_exp = np.expm1(y_pred)-272\n",
    "print(mae(y_test_exp, y_pred_exp))\n",
    "print(mse(y_test_exp, y_pred_exp)**0.5)"
   ]
  },
  {
   "cell_type": "code",
   "execution_count": 177,
   "metadata": {},
   "outputs": [
    {
     "data": {
      "text/plain": [
       "<matplotlib.axes._subplots.AxesSubplot at 0x172e55ba9c8>"
      ]
     },
     "execution_count": 177,
     "metadata": {},
     "output_type": "execute_result"
    },
    {
     "data": {
      "image/png": "[encoded data removed]",
      "text/plain": [
       "<Figure size 432x288 with 1 Axes>"
      ]
     },
     "metadata": {
      "needs_background": "light"
     },
     "output_type": "display_data"
    }
   ],
   "source": [
    "lgb.plot_metric(model2)"
   ]
  },
  {
   "cell_type": "code",
   "execution_count": 153,
   "metadata": {},
   "outputs": [
    {
     "data": {
      "text/plain": [
       "array([6.55862362, 6.7268709 , 6.64420211, ..., 6.51025584, 6.64830469,\n",
       "       6.31595312])"
      ]
     },
     "execution_count": 153,
     "metadata": {},
     "output_type": "execute_result"
    }
   ],
   "source": [
    "y_pred"
   ]
  },
  {
   "cell_type": "code",
   "execution_count": 151,
   "metadata": {},
   "outputs": [
    {
     "data": {
      "text/plain": [
       "1593    502.0\n",
       "401     587.0\n",
       "276     707.0\n",
       "8131    326.7\n",
       "4281    344.1\n",
       "        ...  \n",
       "9655    514.8\n",
       "948     329.9\n",
       "1754    392.5\n",
       "7887    460.1\n",
       "6467    290.7\n",
       "Name: Boiling Point Conv., Length: 1718, dtype: float64"
      ]
     },
     "execution_count": 151,
     "metadata": {},
     "output_type": "execute_result"
    }
   ],
   "source": [
    "y_test_exp"
   ]
  },
  {
   "cell_type": "code",
   "execution_count": 178,
   "metadata": {},
   "outputs": [
    {
     "name": "stdout",
     "output_type": "stream",
     "text": [
      "[1]\ttraining's l2: 0.0414974\tvalid_0's l2: 0.0438001\n",
      "[2]\ttraining's l2: 0.0358534\tvalid_0's l2: 0.0380111\n",
      "[3]\ttraining's l2: 0.0312363\tvalid_0's l2: 0.0333503\n",
      "[4]\ttraining's l2: 0.0274353\tvalid_0's l2: 0.0294776\n",
      "[5]\ttraining's l2: 0.0242844\tvalid_0's l2: 0.0262762\n",
      "[6]\ttraining's l2: 0.0217035\tvalid_0's l2: 0.0236745\n",
      "[7]\ttraining's l2: 0.0195474\tvalid_0's l2: 0.0214386\n",
      "[8]\ttraining's l2: 0.0177467\tvalid_0's l2: 0.0196259\n",
      "[9]\ttraining's l2: 0.0162716\tvalid_0's l2: 0.0181482\n",
      "[10]\ttraining's l2: 0.0150505\tvalid_0's l2: 0.0169089\n",
      "[11]\ttraining's l2: 0.0140199\tvalid_0's l2: 0.01588\n",
      "[12]\ttraining's l2: 0.0131477\tvalid_0's l2: 0.0150038\n",
      "[13]\ttraining's l2: 0.012423\tvalid_0's l2: 0.0142655\n",
      "[14]\ttraining's l2: 0.0117669\tvalid_0's l2: 0.0135973\n",
      "[15]\ttraining's l2: 0.0112458\tvalid_0's l2: 0.0130927\n",
      "[16]\ttraining's l2: 0.0108031\tvalid_0's l2: 0.0126776\n",
      "[17]\ttraining's l2: 0.0104161\tvalid_0's l2: 0.0122801\n",
      "[18]\ttraining's l2: 0.0100818\tvalid_0's l2: 0.0119534\n",
      "[19]\ttraining's l2: 0.0097914\tvalid_0's l2: 0.0116757\n",
      "[20]\ttraining's l2: 0.00955043\tvalid_0's l2: 0.0114567\n",
      "[21]\ttraining's l2: 0.00932951\tvalid_0's l2: 0.0112576\n",
      "[22]\ttraining's l2: 0.00913712\tvalid_0's l2: 0.0110762\n",
      "[23]\ttraining's l2: 0.0089711\tvalid_0's l2: 0.0109124\n",
      "[24]\ttraining's l2: 0.00881697\tvalid_0's l2: 0.0107812\n",
      "[25]\ttraining's l2: 0.00869535\tvalid_0's l2: 0.0106546\n",
      "[26]\ttraining's l2: 0.0085775\tvalid_0's l2: 0.0105557\n",
      "[27]\ttraining's l2: 0.00848327\tvalid_0's l2: 0.0104799\n",
      "[28]\ttraining's l2: 0.00837637\tvalid_0's l2: 0.0104107\n",
      "[29]\ttraining's l2: 0.00828819\tvalid_0's l2: 0.0103338\n",
      "[30]\ttraining's l2: 0.00820794\tvalid_0's l2: 0.010276\n",
      "[31]\ttraining's l2: 0.0081339\tvalid_0's l2: 0.0102315\n",
      "[32]\ttraining's l2: 0.0080616\tvalid_0's l2: 0.0101826\n",
      "[33]\ttraining's l2: 0.00800414\tvalid_0's l2: 0.0101398\n",
      "[34]\ttraining's l2: 0.0079411\tvalid_0's l2: 0.0101036\n",
      "[35]\ttraining's l2: 0.00787879\tvalid_0's l2: 0.0100831\n",
      "[36]\ttraining's l2: 0.00782635\tvalid_0's l2: 0.010059\n",
      "[37]\ttraining's l2: 0.00777856\tvalid_0's l2: 0.0100229\n",
      "[38]\ttraining's l2: 0.00772873\tvalid_0's l2: 0.0100041\n",
      "[39]\ttraining's l2: 0.00768153\tvalid_0's l2: 0.00999017\n",
      "[40]\ttraining's l2: 0.00764178\tvalid_0's l2: 0.00998663\n",
      "[41]\ttraining's l2: 0.00760321\tvalid_0's l2: 0.00996925\n",
      "[42]\ttraining's l2: 0.00756747\tvalid_0's l2: 0.00994777\n",
      "[43]\ttraining's l2: 0.00753042\tvalid_0's l2: 0.00992399\n",
      "[44]\ttraining's l2: 0.00749801\tvalid_0's l2: 0.00991683\n",
      "[45]\ttraining's l2: 0.007465\tvalid_0's l2: 0.00989875\n",
      "[46]\ttraining's l2: 0.00742378\tvalid_0's l2: 0.00989342\n",
      "[47]\ttraining's l2: 0.00739067\tvalid_0's l2: 0.00988818\n",
      "[48]\ttraining's l2: 0.0073552\tvalid_0's l2: 0.00987853\n",
      "[49]\ttraining's l2: 0.00732306\tvalid_0's l2: 0.00986486\n",
      "[50]\ttraining's l2: 0.00729419\tvalid_0's l2: 0.00984516\n",
      "[51]\ttraining's l2: 0.00726613\tvalid_0's l2: 0.00982834\n",
      "[52]\ttraining's l2: 0.00723737\tvalid_0's l2: 0.00980939\n",
      "[53]\ttraining's l2: 0.00721557\tvalid_0's l2: 0.00980757\n",
      "[54]\ttraining's l2: 0.00718528\tvalid_0's l2: 0.00980102\n",
      "[55]\ttraining's l2: 0.00716201\tvalid_0's l2: 0.00979144\n",
      "[56]\ttraining's l2: 0.00713742\tvalid_0's l2: 0.00978649\n",
      "[57]\ttraining's l2: 0.00710953\tvalid_0's l2: 0.00976854\n",
      "[58]\ttraining's l2: 0.00707929\tvalid_0's l2: 0.00976659\n",
      "[59]\ttraining's l2: 0.00705445\tvalid_0's l2: 0.00976954\n",
      "[60]\ttraining's l2: 0.00702629\tvalid_0's l2: 0.009761\n",
      "[61]\ttraining's l2: 0.00699792\tvalid_0's l2: 0.00975507\n",
      "[62]\ttraining's l2: 0.00697596\tvalid_0's l2: 0.00975814\n",
      "[63]\ttraining's l2: 0.00695733\tvalid_0's l2: 0.00975799\n",
      "[64]\ttraining's l2: 0.00693682\tvalid_0's l2: 0.00975984\n",
      "[65]\ttraining's l2: 0.00691308\tvalid_0's l2: 0.00975852\n",
      "[66]\ttraining's l2: 0.00689425\tvalid_0's l2: 0.00975434\n",
      "[67]\ttraining's l2: 0.00687817\tvalid_0's l2: 0.00975261\n",
      "[68]\ttraining's l2: 0.00685441\tvalid_0's l2: 0.00975465\n",
      "[69]\ttraining's l2: 0.00683453\tvalid_0's l2: 0.00974787\n",
      "[70]\ttraining's l2: 0.00681149\tvalid_0's l2: 0.00974392\n",
      "[71]\ttraining's l2: 0.00679263\tvalid_0's l2: 0.0097483\n",
      "[72]\ttraining's l2: 0.00677354\tvalid_0's l2: 0.00974573\n",
      "[73]\ttraining's l2: 0.00675143\tvalid_0's l2: 0.00974202\n",
      "[74]\ttraining's l2: 0.00673043\tvalid_0's l2: 0.0097401\n",
      "[75]\ttraining's l2: 0.00671605\tvalid_0's l2: 0.00974086\n",
      "[76]\ttraining's l2: 0.00670142\tvalid_0's l2: 0.00974003\n",
      "[77]\ttraining's l2: 0.00667996\tvalid_0's l2: 0.00972619\n",
      "[78]\ttraining's l2: 0.00665464\tvalid_0's l2: 0.00971489\n",
      "[79]\ttraining's l2: 0.00663659\tvalid_0's l2: 0.00971051\n",
      "[80]\ttraining's l2: 0.00661649\tvalid_0's l2: 0.00970423\n",
      "[81]\ttraining's l2: 0.00660256\tvalid_0's l2: 0.00970132\n",
      "[82]\ttraining's l2: 0.00658354\tvalid_0's l2: 0.00970464\n",
      "[83]\ttraining's l2: 0.00656548\tvalid_0's l2: 0.00969699\n",
      "[84]\ttraining's l2: 0.00654243\tvalid_0's l2: 0.00968547\n",
      "[85]\ttraining's l2: 0.00652443\tvalid_0's l2: 0.00967801\n",
      "[86]\ttraining's l2: 0.00650632\tvalid_0's l2: 0.00967807\n",
      "[87]\ttraining's l2: 0.00648833\tvalid_0's l2: 0.00967319\n",
      "[88]\ttraining's l2: 0.0064649\tvalid_0's l2: 0.00967002\n",
      "[89]\ttraining's l2: 0.00644751\tvalid_0's l2: 0.00966887\n",
      "[90]\ttraining's l2: 0.00643336\tvalid_0's l2: 0.00967428\n",
      "[91]\ttraining's l2: 0.00642064\tvalid_0's l2: 0.00966819\n",
      "[92]\ttraining's l2: 0.00640707\tvalid_0's l2: 0.00967586\n",
      "[93]\ttraining's l2: 0.00639621\tvalid_0's l2: 0.00967732\n",
      "[94]\ttraining's l2: 0.00637755\tvalid_0's l2: 0.00967227\n",
      "[95]\ttraining's l2: 0.00636785\tvalid_0's l2: 0.00967032\n",
      "[96]\ttraining's l2: 0.0063457\tvalid_0's l2: 0.00967289\n",
      "[97]\ttraining's l2: 0.00633172\tvalid_0's l2: 0.00967849\n",
      "[98]\ttraining's l2: 0.00632285\tvalid_0's l2: 0.00967085\n",
      "[99]\ttraining's l2: 0.00631361\tvalid_0's l2: 0.00966789\n",
      "[100]\ttraining's l2: 0.00629093\tvalid_0's l2: 0.00967015\n",
      "49.60431268673647\n",
      "66.46751466442781\n"
     ]
    }
   ],
   "source": [
    "X = dataConv.drop(['Boiling Point Conv.', 'Density Conv.'], axis =1)\n",
    "y = dataConv['Boiling Point Conv.']\n",
    "X_train, X_test, y_train, y_test = train_test_split(X, y, random_state = 42, test_size=0.2)\n",
    "model3 = lgb.LGBMRegressor()\n",
    "model3.fit(X_train, y_train, eval_set=[(X_test, y_test), (X_train, y_train)])\n",
    "y_pred = model3.predict(X_test)\n",
    "y_test_exp = np.expm1(y_test)-272\n",
    "y_pred_exp = np.expm1(y_pred)-272\n",
    "print(mae(y_test_exp, y_pred_exp))\n",
    "print(mse(y_test_exp, y_pred_exp)**0.5)"
   ]
  },
  {
   "cell_type": "code",
   "execution_count": 171,
   "metadata": {},
   "outputs": [
    {
     "name": "stdout",
     "output_type": "stream",
     "text": [
      "[1]\ttraining's l2: 0.0414974\tvalid_0's l2: 0.0438001\n",
      "[2]\ttraining's l2: 0.0358534\tvalid_0's l2: 0.0380111\n",
      "[3]\ttraining's l2: 0.0312363\tvalid_0's l2: 0.0333503\n",
      "[4]\ttraining's l2: 0.0274353\tvalid_0's l2: 0.0294776\n",
      "[5]\ttraining's l2: 0.0242844\tvalid_0's l2: 0.0262762\n",
      "[6]\ttraining's l2: 0.0217035\tvalid_0's l2: 0.0236745\n",
      "[7]\ttraining's l2: 0.0195474\tvalid_0's l2: 0.0214386\n",
      "[8]\ttraining's l2: 0.0177467\tvalid_0's l2: 0.0196259\n",
      "[9]\ttraining's l2: 0.0162716\tvalid_0's l2: 0.0181482\n",
      "[10]\ttraining's l2: 0.0150505\tvalid_0's l2: 0.0169089\n",
      "[11]\ttraining's l2: 0.0140199\tvalid_0's l2: 0.01588\n",
      "[12]\ttraining's l2: 0.0131477\tvalid_0's l2: 0.0150038\n",
      "[13]\ttraining's l2: 0.012423\tvalid_0's l2: 0.0142655\n",
      "[14]\ttraining's l2: 0.0117669\tvalid_0's l2: 0.0135973\n",
      "[15]\ttraining's l2: 0.0112458\tvalid_0's l2: 0.0130927\n",
      "[16]\ttraining's l2: 0.0108031\tvalid_0's l2: 0.0126776\n",
      "[17]\ttraining's l2: 0.0104161\tvalid_0's l2: 0.0122801\n",
      "[18]\ttraining's l2: 0.0100818\tvalid_0's l2: 0.0119534\n",
      "[19]\ttraining's l2: 0.0097914\tvalid_0's l2: 0.0116757\n",
      "[20]\ttraining's l2: 0.00955043\tvalid_0's l2: 0.0114567\n",
      "[21]\ttraining's l2: 0.00932951\tvalid_0's l2: 0.0112576\n",
      "[22]\ttraining's l2: 0.00913712\tvalid_0's l2: 0.0110762\n",
      "[23]\ttraining's l2: 0.0089711\tvalid_0's l2: 0.0109124\n",
      "[24]\ttraining's l2: 0.00881697\tvalid_0's l2: 0.0107812\n",
      "[25]\ttraining's l2: 0.00869535\tvalid_0's l2: 0.0106546\n",
      "[26]\ttraining's l2: 0.0085775\tvalid_0's l2: 0.0105557\n",
      "[27]\ttraining's l2: 0.00848327\tvalid_0's l2: 0.0104799\n",
      "[28]\ttraining's l2: 0.00837637\tvalid_0's l2: 0.0104107\n",
      "[29]\ttraining's l2: 0.00828819\tvalid_0's l2: 0.0103338\n",
      "[30]\ttraining's l2: 0.00820794\tvalid_0's l2: 0.010276\n",
      "[31]\ttraining's l2: 0.0081339\tvalid_0's l2: 0.0102315\n",
      "[32]\ttraining's l2: 0.0080616\tvalid_0's l2: 0.0101826\n",
      "[33]\ttraining's l2: 0.00800414\tvalid_0's l2: 0.0101398\n",
      "[34]\ttraining's l2: 0.0079411\tvalid_0's l2: 0.0101036\n",
      "[35]\ttraining's l2: 0.00787879\tvalid_0's l2: 0.0100831\n",
      "[36]\ttraining's l2: 0.00782635\tvalid_0's l2: 0.010059\n",
      "[37]\ttraining's l2: 0.00777856\tvalid_0's l2: 0.0100229\n",
      "[38]\ttraining's l2: 0.00772873\tvalid_0's l2: 0.0100041\n",
      "[39]\ttraining's l2: 0.00768153\tvalid_0's l2: 0.00999017\n",
      "[40]\ttraining's l2: 0.00764178\tvalid_0's l2: 0.00998663\n",
      "[41]\ttraining's l2: 0.00760321\tvalid_0's l2: 0.00996925\n",
      "[42]\ttraining's l2: 0.00756747\tvalid_0's l2: 0.00994777\n",
      "[43]\ttraining's l2: 0.00753042\tvalid_0's l2: 0.00992399\n",
      "[44]\ttraining's l2: 0.00749801\tvalid_0's l2: 0.00991683\n",
      "[45]\ttraining's l2: 0.007465\tvalid_0's l2: 0.00989875\n",
      "[46]\ttraining's l2: 0.00742378\tvalid_0's l2: 0.00989342\n",
      "[47]\ttraining's l2: 0.00739067\tvalid_0's l2: 0.00988818\n",
      "[48]\ttraining's l2: 0.0073552\tvalid_0's l2: 0.00987853\n",
      "[49]\ttraining's l2: 0.00732306\tvalid_0's l2: 0.00986486\n",
      "[50]\ttraining's l2: 0.00729419\tvalid_0's l2: 0.00984516\n",
      "[51]\ttraining's l2: 0.00726613\tvalid_0's l2: 0.00982834\n",
      "[52]\ttraining's l2: 0.00723737\tvalid_0's l2: 0.00980939\n",
      "[53]\ttraining's l2: 0.00721557\tvalid_0's l2: 0.00980757\n",
      "[54]\ttraining's l2: 0.00718528\tvalid_0's l2: 0.00980102\n",
      "[55]\ttraining's l2: 0.00716201\tvalid_0's l2: 0.00979144\n",
      "[56]\ttraining's l2: 0.00713742\tvalid_0's l2: 0.00978649\n",
      "[57]\ttraining's l2: 0.00710953\tvalid_0's l2: 0.00976854\n",
      "[58]\ttraining's l2: 0.00707929\tvalid_0's l2: 0.00976659\n",
      "[59]\ttraining's l2: 0.00705445\tvalid_0's l2: 0.00976954\n",
      "[60]\ttraining's l2: 0.00702629\tvalid_0's l2: 0.009761\n",
      "[61]\ttraining's l2: 0.00699792\tvalid_0's l2: 0.00975507\n",
      "[62]\ttraining's l2: 0.00697596\tvalid_0's l2: 0.00975814\n",
      "[63]\ttraining's l2: 0.00695733\tvalid_0's l2: 0.00975799\n",
      "[64]\ttraining's l2: 0.00693682\tvalid_0's l2: 0.00975984\n",
      "[65]\ttraining's l2: 0.00691308\tvalid_0's l2: 0.00975852\n",
      "[66]\ttraining's l2: 0.00689425\tvalid_0's l2: 0.00975434\n",
      "[67]\ttraining's l2: 0.00687817\tvalid_0's l2: 0.00975261\n",
      "[68]\ttraining's l2: 0.00685441\tvalid_0's l2: 0.00975465\n",
      "[69]\ttraining's l2: 0.00683453\tvalid_0's l2: 0.00974787\n",
      "[70]\ttraining's l2: 0.00681149\tvalid_0's l2: 0.00974392\n",
      "[71]\ttraining's l2: 0.00679263\tvalid_0's l2: 0.0097483\n",
      "[72]\ttraining's l2: 0.00677354\tvalid_0's l2: 0.00974573\n",
      "[73]\ttraining's l2: 0.00675143\tvalid_0's l2: 0.00974202\n",
      "[74]\ttraining's l2: 0.00673043\tvalid_0's l2: 0.0097401\n",
      "[75]\ttraining's l2: 0.00671605\tvalid_0's l2: 0.00974086\n",
      "[76]\ttraining's l2: 0.00670142\tvalid_0's l2: 0.00974003\n",
      "[77]\ttraining's l2: 0.00667996\tvalid_0's l2: 0.00972619\n",
      "[78]\ttraining's l2: 0.00665464\tvalid_0's l2: 0.00971489\n",
      "[79]\ttraining's l2: 0.00663659\tvalid_0's l2: 0.00971051\n",
      "[80]\ttraining's l2: 0.00661649\tvalid_0's l2: 0.00970423\n",
      "[81]\ttraining's l2: 0.00660256\tvalid_0's l2: 0.00970132\n",
      "[82]\ttraining's l2: 0.00658354\tvalid_0's l2: 0.00970464\n",
      "[83]\ttraining's l2: 0.00656548\tvalid_0's l2: 0.00969699\n",
      "[84]\ttraining's l2: 0.00654243\tvalid_0's l2: 0.00968547\n",
      "[85]\ttraining's l2: 0.00652443\tvalid_0's l2: 0.00967801\n",
      "[86]\ttraining's l2: 0.00650632\tvalid_0's l2: 0.00967807\n",
      "[87]\ttraining's l2: 0.00648833\tvalid_0's l2: 0.00967319\n",
      "[88]\ttraining's l2: 0.0064649\tvalid_0's l2: 0.00967002\n",
      "[89]\ttraining's l2: 0.00644751\tvalid_0's l2: 0.00966887\n",
      "[90]\ttraining's l2: 0.00643336\tvalid_0's l2: 0.00967428\n",
      "[91]\ttraining's l2: 0.00642064\tvalid_0's l2: 0.00966819\n",
      "[92]\ttraining's l2: 0.00640707\tvalid_0's l2: 0.00967586\n",
      "[93]\ttraining's l2: 0.00639621\tvalid_0's l2: 0.00967732\n",
      "[94]\ttraining's l2: 0.00637755\tvalid_0's l2: 0.00967227\n",
      "[95]\ttraining's l2: 0.00636785\tvalid_0's l2: 0.00967032\n",
      "[96]\ttraining's l2: 0.0063457\tvalid_0's l2: 0.00967289\n",
      "[97]\ttraining's l2: 0.00633172\tvalid_0's l2: 0.00967849\n",
      "[98]\ttraining's l2: 0.00632285\tvalid_0's l2: 0.00967085\n",
      "[99]\ttraining's l2: 0.00631361\tvalid_0's l2: 0.00966789\n",
      "[100]\ttraining's l2: 0.00629093\tvalid_0's l2: 0.00967015\n"
     ]
    },
    {
     "data": {
      "text/plain": [
       "LGBMRegressor(boosting_type='gbdt', class_weight=None, colsample_bytree=1.0,\n",
       "              importance_type='split', learning_rate=0.1, max_depth=-1,\n",
       "              min_child_samples=20, min_child_weight=0.001, min_split_gain=0.0,\n",
       "              n_estimators=100, n_jobs=-1, num_leaves=31, objective=None,\n",
       "              random_state=None, reg_alpha=0.0, reg_lambda=0.0, silent='warn',\n",
       "              subsample=1.0, subsample_for_bin=200000, subsample_freq=0)"
      ]
     },
     "execution_count": 171,
     "metadata": {},
     "output_type": "execute_result"
    }
   ],
   "source": [
    "model.fit(X_train, y_train, eval_set=[(X_test, y_test), (X_train, y_train)])"
   ]
  },
  {
   "cell_type": "code",
   "execution_count": 179,
   "metadata": {},
   "outputs": [
    {
     "data": {
      "text/plain": [
       "<matplotlib.axes._subplots.AxesSubplot at 0x172e562f7c8>"
      ]
     },
     "execution_count": 179,
     "metadata": {},
     "output_type": "execute_result"
    },
    {
     "data": {
      "image/png": "[encoded data removed]",
      "text/plain": [
       "<Figure size 432x288 with 1 Axes>"
      ]
     },
     "metadata": {
      "needs_background": "light"
     },
     "output_type": "display_data"
    }
   ],
   "source": [
    "lgb.plot_metric(model3)"
   ]
  },
  {
   "cell_type": "code",
   "execution_count": 172,
   "metadata": {},
   "outputs": [
    {
     "data": {
      "text/plain": [
       "<matplotlib.axes._subplots.AxesSubplot at 0x172e54cb088>"
      ]
     },
     "execution_count": 172,
     "metadata": {},
     "output_type": "execute_result"
    },
    {
     "data": {
      "image/png": "[encoded data removed]",
      "text/plain": [
       "<Figure size 432x288 with 1 Axes>"
      ]
     },
     "metadata": {
      "needs_background": "light"
     },
     "output_type": "display_data"
    }
   ],
   "source": [
    "lgb.plot_metric(model)"
   ]
  },
  {
   "cell_type": "code",
   "execution_count": 180,
   "metadata": {},
   "outputs": [
    {
     "data": {
      "text/html": [
       "<div>\n",
       "<style scoped>\n",
       "    .dataframe tbody tr th:only-of-type {\n",
       "        vertical-align: middle;\n",
       "    }\n",
       "\n",
       "    .dataframe tbody tr th {\n",
       "        vertical-align: top;\n",
       "    }\n",
       "\n",
       "    .dataframe thead th {\n",
       "        text-align: right;\n",
       "    }\n",
       "</style>\n",
       "<table border=\"1\" class=\"dataframe\">\n",
       "  <thead>\n",
       "    <tr style=\"text-align: right;\">\n",
       "      <th></th>\n",
       "      <th>Density Conv.</th>\n",
       "      <th>Molar Volume Conv.</th>\n",
       "      <th>Freely Rotatable Bonds</th>\n",
       "      <th>H Acceptors</th>\n",
       "      <th>H Donors</th>\n",
       "      <th>Molecular Weight Conv.</th>\n",
       "      <th>Polar Surface Area Conv.</th>\n",
       "      <th>Boiling Point Conv.</th>\n",
       "    </tr>\n",
       "  </thead>\n",
       "  <tbody>\n",
       "    <tr>\n",
       "      <th>0</th>\n",
       "      <td>1.029262</td>\n",
       "      <td>5.129307</td>\n",
       "      <td>6.0</td>\n",
       "      <td>7.0</td>\n",
       "      <td>5.0</td>\n",
       "      <td>5.714525</td>\n",
       "      <td>4.852030</td>\n",
       "      <td>6.819361</td>\n",
       "    </tr>\n",
       "    <tr>\n",
       "      <th>2</th>\n",
       "      <td>0.731887</td>\n",
       "      <td>5.219274</td>\n",
       "      <td>2.0</td>\n",
       "      <td>1.0</td>\n",
       "      <td>0.0</td>\n",
       "      <td>5.284421</td>\n",
       "      <td>2.895912</td>\n",
       "      <td>6.197665</td>\n",
       "    </tr>\n",
       "    <tr>\n",
       "      <th>3</th>\n",
       "      <td>0.817575</td>\n",
       "      <td>4.702297</td>\n",
       "      <td>1.0</td>\n",
       "      <td>2.0</td>\n",
       "      <td>2.0</td>\n",
       "      <td>4.935840</td>\n",
       "      <td>4.276666</td>\n",
       "      <td>6.313367</td>\n",
       "    </tr>\n",
       "    <tr>\n",
       "      <th>4</th>\n",
       "      <td>0.845010</td>\n",
       "      <td>5.060060</td>\n",
       "      <td>0.0</td>\n",
       "      <td>2.0</td>\n",
       "      <td>0.0</td>\n",
       "      <td>5.343339</td>\n",
       "      <td>3.558201</td>\n",
       "      <td>6.520621</td>\n",
       "    </tr>\n",
       "    <tr>\n",
       "      <th>5</th>\n",
       "      <td>0.846297</td>\n",
       "      <td>4.970508</td>\n",
       "      <td>1.0</td>\n",
       "      <td>2.0</td>\n",
       "      <td>0.0</td>\n",
       "      <td>5.255671</td>\n",
       "      <td>3.772761</td>\n",
       "      <td>6.402249</td>\n",
       "    </tr>\n",
       "    <tr>\n",
       "      <th>...</th>\n",
       "      <td>...</td>\n",
       "      <td>...</td>\n",
       "      <td>...</td>\n",
       "      <td>...</td>\n",
       "      <td>...</td>\n",
       "      <td>...</td>\n",
       "      <td>...</td>\n",
       "      <td>...</td>\n",
       "    </tr>\n",
       "    <tr>\n",
       "      <th>9994</th>\n",
       "      <td>0.966984</td>\n",
       "      <td>4.860587</td>\n",
       "      <td>3.0</td>\n",
       "      <td>7.0</td>\n",
       "      <td>1.0</td>\n",
       "      <td>5.347869</td>\n",
       "      <td>4.544358</td>\n",
       "      <td>6.635684</td>\n",
       "    </tr>\n",
       "    <tr>\n",
       "      <th>9996</th>\n",
       "      <td>1.061948</td>\n",
       "      <td>4.737951</td>\n",
       "      <td>1.0</td>\n",
       "      <td>0.0</td>\n",
       "      <td>0.0</td>\n",
       "      <td>5.372636</td>\n",
       "      <td>0.000000</td>\n",
       "      <td>6.106577</td>\n",
       "    </tr>\n",
       "    <tr>\n",
       "      <th>9997</th>\n",
       "      <td>0.906240</td>\n",
       "      <td>4.660605</td>\n",
       "      <td>0.0</td>\n",
       "      <td>3.0</td>\n",
       "      <td>0.0</td>\n",
       "      <td>5.046967</td>\n",
       "      <td>3.686376</td>\n",
       "      <td>6.389233</td>\n",
       "    </tr>\n",
       "    <tr>\n",
       "      <th>9998</th>\n",
       "      <td>0.876718</td>\n",
       "      <td>6.251326</td>\n",
       "      <td>17.0</td>\n",
       "      <td>11.0</td>\n",
       "      <td>4.0</td>\n",
       "      <td>6.589930</td>\n",
       "      <td>5.087596</td>\n",
       "      <td>7.102499</td>\n",
       "    </tr>\n",
       "    <tr>\n",
       "      <th>9999</th>\n",
       "      <td>0.753301</td>\n",
       "      <td>5.865051</td>\n",
       "      <td>7.0</td>\n",
       "      <td>5.0</td>\n",
       "      <td>1.0</td>\n",
       "      <td>5.982651</td>\n",
       "      <td>4.056989</td>\n",
       "      <td>6.702574</td>\n",
       "    </tr>\n",
       "  </tbody>\n",
       "</table>\n",
       "<p>8589 rows × 8 columns</p>\n",
       "</div>"
      ],
      "text/plain": [
       "      Density Conv.  Molar Volume Conv.  Freely Rotatable Bonds  H Acceptors  \\\n",
       "0          1.029262            5.129307                     6.0          7.0   \n",
       "2          0.731887            5.219274                     2.0          1.0   \n",
       "3          0.817575            4.702297                     1.0          2.0   \n",
       "4          0.845010            5.060060                     0.0          2.0   \n",
       "5          0.846297            4.970508                     1.0          2.0   \n",
       "...             ...                 ...                     ...          ...   \n",
       "9994       0.966984            4.860587                     3.0          7.0   \n",
       "9996       1.061948            4.737951                     1.0          0.0   \n",
       "9997       0.906240            4.660605                     0.0          3.0   \n",
       "9998       0.876718            6.251326                    17.0         11.0   \n",
       "9999       0.753301            5.865051                     7.0          5.0   \n",
       "\n",
       "      H Donors  Molecular Weight Conv.  Polar Surface Area Conv.  \\\n",
       "0          5.0                5.714525                  4.852030   \n",
       "2          0.0                5.284421                  2.895912   \n",
       "3          2.0                4.935840                  4.276666   \n",
       "4          0.0                5.343339                  3.558201   \n",
       "5          0.0                5.255671                  3.772761   \n",
       "...        ...                     ...                       ...   \n",
       "9994       1.0                5.347869                  4.544358   \n",
       "9996       0.0                5.372636                  0.000000   \n",
       "9997       0.0                5.046967                  3.686376   \n",
       "9998       4.0                6.589930                  5.087596   \n",
       "9999       1.0                5.982651                  4.056989   \n",
       "\n",
       "      Boiling Point Conv.  \n",
       "0                6.819361  \n",
       "2                6.197665  \n",
       "3                6.313367  \n",
       "4                6.520621  \n",
       "5                6.402249  \n",
       "...                   ...  \n",
       "9994             6.635684  \n",
       "9996             6.106577  \n",
       "9997             6.389233  \n",
       "9998             7.102499  \n",
       "9999             6.702574  \n",
       "\n",
       "[8589 rows x 8 columns]"
      ]
     },
     "execution_count": 180,
     "metadata": {},
     "output_type": "execute_result"
    }
   ],
   "source": [
    "dataConv"
   ]
  },
  {
   "cell_type": "code",
   "execution_count": 181,
   "metadata": {},
   "outputs": [],
   "source": [
    "dataConv2 = dataConv"
   ]
  },
  {
   "cell_type": "code",
   "execution_count": 182,
   "metadata": {},
   "outputs": [],
   "source": [
    "dataConv2['Freely Rotatable Bonds'] = np.log1p(dataConv2['Freely Rotatable Bonds'])\n",
    "dataConv2['H Acceptors'] = np.log1p(dataConv2['H Acceptors'])\n",
    "dataConv2['H Donors'] = np.log1p(dataConv2['H Donors'])"
   ]
  },
  {
   "cell_type": "code",
   "execution_count": 183,
   "metadata": {},
   "outputs": [
    {
     "data": {
      "text/html": [
       "<div>\n",
       "<style scoped>\n",
       "    .dataframe tbody tr th:only-of-type {\n",
       "        vertical-align: middle;\n",
       "    }\n",
       "\n",
       "    .dataframe tbody tr th {\n",
       "        vertical-align: top;\n",
       "    }\n",
       "\n",
       "    .dataframe thead th {\n",
       "        text-align: right;\n",
       "    }\n",
       "</style>\n",
       "<table border=\"1\" class=\"dataframe\">\n",
       "  <thead>\n",
       "    <tr style=\"text-align: right;\">\n",
       "      <th></th>\n",
       "      <th>Density Conv.</th>\n",
       "      <th>Molar Volume Conv.</th>\n",
       "      <th>Freely Rotatable Bonds</th>\n",
       "      <th>H Acceptors</th>\n",
       "      <th>H Donors</th>\n",
       "      <th>Molecular Weight Conv.</th>\n",
       "      <th>Polar Surface Area Conv.</th>\n",
       "      <th>Boiling Point Conv.</th>\n",
       "    </tr>\n",
       "  </thead>\n",
       "  <tbody>\n",
       "    <tr>\n",
       "      <th>0</th>\n",
       "      <td>1.029262</td>\n",
       "      <td>5.129307</td>\n",
       "      <td>1.945910</td>\n",
       "      <td>2.079442</td>\n",
       "      <td>1.791759</td>\n",
       "      <td>5.714525</td>\n",
       "      <td>4.852030</td>\n",
       "      <td>6.819361</td>\n",
       "    </tr>\n",
       "    <tr>\n",
       "      <th>2</th>\n",
       "      <td>0.731887</td>\n",
       "      <td>5.219274</td>\n",
       "      <td>1.098612</td>\n",
       "      <td>0.693147</td>\n",
       "      <td>0.000000</td>\n",
       "      <td>5.284421</td>\n",
       "      <td>2.895912</td>\n",
       "      <td>6.197665</td>\n",
       "    </tr>\n",
       "    <tr>\n",
       "      <th>3</th>\n",
       "      <td>0.817575</td>\n",
       "      <td>4.702297</td>\n",
       "      <td>0.693147</td>\n",
       "      <td>1.098612</td>\n",
       "      <td>1.098612</td>\n",
       "      <td>4.935840</td>\n",
       "      <td>4.276666</td>\n",
       "      <td>6.313367</td>\n",
       "    </tr>\n",
       "    <tr>\n",
       "      <th>4</th>\n",
       "      <td>0.845010</td>\n",
       "      <td>5.060060</td>\n",
       "      <td>0.000000</td>\n",
       "      <td>1.098612</td>\n",
       "      <td>0.000000</td>\n",
       "      <td>5.343339</td>\n",
       "      <td>3.558201</td>\n",
       "      <td>6.520621</td>\n",
       "    </tr>\n",
       "    <tr>\n",
       "      <th>5</th>\n",
       "      <td>0.846297</td>\n",
       "      <td>4.970508</td>\n",
       "      <td>0.693147</td>\n",
       "      <td>1.098612</td>\n",
       "      <td>0.000000</td>\n",
       "      <td>5.255671</td>\n",
       "      <td>3.772761</td>\n",
       "      <td>6.402249</td>\n",
       "    </tr>\n",
       "    <tr>\n",
       "      <th>...</th>\n",
       "      <td>...</td>\n",
       "      <td>...</td>\n",
       "      <td>...</td>\n",
       "      <td>...</td>\n",
       "      <td>...</td>\n",
       "      <td>...</td>\n",
       "      <td>...</td>\n",
       "      <td>...</td>\n",
       "    </tr>\n",
       "    <tr>\n",
       "      <th>9994</th>\n",
       "      <td>0.966984</td>\n",
       "      <td>4.860587</td>\n",
       "      <td>1.386294</td>\n",
       "      <td>2.079442</td>\n",
       "      <td>0.693147</td>\n",
       "      <td>5.347869</td>\n",
       "      <td>4.544358</td>\n",
       "      <td>6.635684</td>\n",
       "    </tr>\n",
       "    <tr>\n",
       "      <th>9996</th>\n",
       "      <td>1.061948</td>\n",
       "      <td>4.737951</td>\n",
       "      <td>0.693147</td>\n",
       "      <td>0.000000</td>\n",
       "      <td>0.000000</td>\n",
       "      <td>5.372636</td>\n",
       "      <td>0.000000</td>\n",
       "      <td>6.106577</td>\n",
       "    </tr>\n",
       "    <tr>\n",
       "      <th>9997</th>\n",
       "      <td>0.906240</td>\n",
       "      <td>4.660605</td>\n",
       "      <td>0.000000</td>\n",
       "      <td>1.386294</td>\n",
       "      <td>0.000000</td>\n",
       "      <td>5.046967</td>\n",
       "      <td>3.686376</td>\n",
       "      <td>6.389233</td>\n",
       "    </tr>\n",
       "    <tr>\n",
       "      <th>9998</th>\n",
       "      <td>0.876718</td>\n",
       "      <td>6.251326</td>\n",
       "      <td>2.890372</td>\n",
       "      <td>2.484907</td>\n",
       "      <td>1.609438</td>\n",
       "      <td>6.589930</td>\n",
       "      <td>5.087596</td>\n",
       "      <td>7.102499</td>\n",
       "    </tr>\n",
       "    <tr>\n",
       "      <th>9999</th>\n",
       "      <td>0.753301</td>\n",
       "      <td>5.865051</td>\n",
       "      <td>2.079442</td>\n",
       "      <td>1.791759</td>\n",
       "      <td>0.693147</td>\n",
       "      <td>5.982651</td>\n",
       "      <td>4.056989</td>\n",
       "      <td>6.702574</td>\n",
       "    </tr>\n",
       "  </tbody>\n",
       "</table>\n",
       "<p>8589 rows × 8 columns</p>\n",
       "</div>"
      ],
      "text/plain": [
       "      Density Conv.  Molar Volume Conv.  Freely Rotatable Bonds  H Acceptors  \\\n",
       "0          1.029262            5.129307                1.945910     2.079442   \n",
       "2          0.731887            5.219274                1.098612     0.693147   \n",
       "3          0.817575            4.702297                0.693147     1.098612   \n",
       "4          0.845010            5.060060                0.000000     1.098612   \n",
       "5          0.846297            4.970508                0.693147     1.098612   \n",
       "...             ...                 ...                     ...          ...   \n",
       "9994       0.966984            4.860587                1.386294     2.079442   \n",
       "9996       1.061948            4.737951                0.693147     0.000000   \n",
       "9997       0.906240            4.660605                0.000000     1.386294   \n",
       "9998       0.876718            6.251326                2.890372     2.484907   \n",
       "9999       0.753301            5.865051                2.079442     1.791759   \n",
       "\n",
       "      H Donors  Molecular Weight Conv.  Polar Surface Area Conv.  \\\n",
       "0     1.791759                5.714525                  4.852030   \n",
       "2     0.000000                5.284421                  2.895912   \n",
       "3     1.098612                4.935840                  4.276666   \n",
       "4     0.000000                5.343339                  3.558201   \n",
       "5     0.000000                5.255671                  3.772761   \n",
       "...        ...                     ...                       ...   \n",
       "9994  0.693147                5.347869                  4.544358   \n",
       "9996  0.000000                5.372636                  0.000000   \n",
       "9997  0.000000                5.046967                  3.686376   \n",
       "9998  1.609438                6.589930                  5.087596   \n",
       "9999  0.693147                5.982651                  4.056989   \n",
       "\n",
       "      Boiling Point Conv.  \n",
       "0                6.819361  \n",
       "2                6.197665  \n",
       "3                6.313367  \n",
       "4                6.520621  \n",
       "5                6.402249  \n",
       "...                   ...  \n",
       "9994             6.635684  \n",
       "9996             6.106577  \n",
       "9997             6.389233  \n",
       "9998             7.102499  \n",
       "9999             6.702574  \n",
       "\n",
       "[8589 rows x 8 columns]"
      ]
     },
     "execution_count": 183,
     "metadata": {},
     "output_type": "execute_result"
    }
   ],
   "source": [
    "dataConv2"
   ]
  },
  {
   "cell_type": "code",
   "execution_count": 184,
   "metadata": {},
   "outputs": [
    {
     "name": "stdout",
     "output_type": "stream",
     "text": [
      "[1]\ttraining's l2: 0.0414974\tvalid_0's l2: 0.0438001\n",
      "[2]\ttraining's l2: 0.0358534\tvalid_0's l2: 0.0380111\n",
      "[3]\ttraining's l2: 0.0312363\tvalid_0's l2: 0.0333503\n",
      "[4]\ttraining's l2: 0.0274353\tvalid_0's l2: 0.0294776\n",
      "[5]\ttraining's l2: 0.0242844\tvalid_0's l2: 0.0262762\n",
      "[6]\ttraining's l2: 0.0217035\tvalid_0's l2: 0.0236745\n",
      "[7]\ttraining's l2: 0.0195474\tvalid_0's l2: 0.0214386\n",
      "[8]\ttraining's l2: 0.0177467\tvalid_0's l2: 0.0196259\n",
      "[9]\ttraining's l2: 0.0162716\tvalid_0's l2: 0.0181482\n",
      "[10]\ttraining's l2: 0.0150505\tvalid_0's l2: 0.0169089\n",
      "[11]\ttraining's l2: 0.0140199\tvalid_0's l2: 0.01588\n",
      "[12]\ttraining's l2: 0.0131477\tvalid_0's l2: 0.0150038\n",
      "[13]\ttraining's l2: 0.012423\tvalid_0's l2: 0.0142655\n",
      "[14]\ttraining's l2: 0.0117669\tvalid_0's l2: 0.0135973\n",
      "[15]\ttraining's l2: 0.0112458\tvalid_0's l2: 0.0130927\n",
      "[16]\ttraining's l2: 0.0108031\tvalid_0's l2: 0.0126776\n",
      "[17]\ttraining's l2: 0.0104161\tvalid_0's l2: 0.0122801\n",
      "[18]\ttraining's l2: 0.0100818\tvalid_0's l2: 0.0119534\n",
      "[19]\ttraining's l2: 0.0097914\tvalid_0's l2: 0.0116757\n",
      "[20]\ttraining's l2: 0.00955043\tvalid_0's l2: 0.0114567\n",
      "[21]\ttraining's l2: 0.00932951\tvalid_0's l2: 0.0112576\n",
      "[22]\ttraining's l2: 0.00913712\tvalid_0's l2: 0.0110762\n",
      "[23]\ttraining's l2: 0.0089711\tvalid_0's l2: 0.0109124\n",
      "[24]\ttraining's l2: 0.00881697\tvalid_0's l2: 0.0107812\n",
      "[25]\ttraining's l2: 0.00869535\tvalid_0's l2: 0.0106546\n",
      "[26]\ttraining's l2: 0.0085775\tvalid_0's l2: 0.0105557\n",
      "[27]\ttraining's l2: 0.00848327\tvalid_0's l2: 0.0104799\n",
      "[28]\ttraining's l2: 0.00837637\tvalid_0's l2: 0.0104107\n",
      "[29]\ttraining's l2: 0.00828819\tvalid_0's l2: 0.0103338\n",
      "[30]\ttraining's l2: 0.00820794\tvalid_0's l2: 0.010276\n",
      "[31]\ttraining's l2: 0.0081339\tvalid_0's l2: 0.0102315\n",
      "[32]\ttraining's l2: 0.0080616\tvalid_0's l2: 0.0101826\n",
      "[33]\ttraining's l2: 0.00800414\tvalid_0's l2: 0.0101398\n",
      "[34]\ttraining's l2: 0.0079411\tvalid_0's l2: 0.0101036\n",
      "[35]\ttraining's l2: 0.00787879\tvalid_0's l2: 0.0100831\n",
      "[36]\ttraining's l2: 0.00782635\tvalid_0's l2: 0.010059\n",
      "[37]\ttraining's l2: 0.00777856\tvalid_0's l2: 0.0100229\n",
      "[38]\ttraining's l2: 0.00772873\tvalid_0's l2: 0.0100041\n",
      "[39]\ttraining's l2: 0.00768153\tvalid_0's l2: 0.00999017\n",
      "[40]\ttraining's l2: 0.00764178\tvalid_0's l2: 0.00998663\n",
      "[41]\ttraining's l2: 0.00760321\tvalid_0's l2: 0.00996925\n",
      "[42]\ttraining's l2: 0.00756747\tvalid_0's l2: 0.00994777\n",
      "[43]\ttraining's l2: 0.00753042\tvalid_0's l2: 0.00992399\n",
      "[44]\ttraining's l2: 0.00749801\tvalid_0's l2: 0.00991683\n",
      "[45]\ttraining's l2: 0.007465\tvalid_0's l2: 0.00989875\n",
      "[46]\ttraining's l2: 0.00742378\tvalid_0's l2: 0.00989342\n",
      "[47]\ttraining's l2: 0.00739067\tvalid_0's l2: 0.00988818\n",
      "[48]\ttraining's l2: 0.0073552\tvalid_0's l2: 0.00987853\n",
      "[49]\ttraining's l2: 0.00732306\tvalid_0's l2: 0.00986486\n",
      "[50]\ttraining's l2: 0.00729419\tvalid_0's l2: 0.00984516\n",
      "[51]\ttraining's l2: 0.00726613\tvalid_0's l2: 0.00982834\n",
      "[52]\ttraining's l2: 0.00723737\tvalid_0's l2: 0.00980939\n",
      "[53]\ttraining's l2: 0.00721557\tvalid_0's l2: 0.00980757\n",
      "[54]\ttraining's l2: 0.00718528\tvalid_0's l2: 0.00980102\n",
      "[55]\ttraining's l2: 0.00716201\tvalid_0's l2: 0.00979144\n",
      "[56]\ttraining's l2: 0.00713742\tvalid_0's l2: 0.00978649\n",
      "[57]\ttraining's l2: 0.00710953\tvalid_0's l2: 0.00976854\n",
      "[58]\ttraining's l2: 0.00707929\tvalid_0's l2: 0.00976659\n",
      "[59]\ttraining's l2: 0.00705445\tvalid_0's l2: 0.00976954\n",
      "[60]\ttraining's l2: 0.00702629\tvalid_0's l2: 0.009761\n",
      "[61]\ttraining's l2: 0.00699792\tvalid_0's l2: 0.00975507\n",
      "[62]\ttraining's l2: 0.00697596\tvalid_0's l2: 0.00975814\n",
      "[63]\ttraining's l2: 0.00695733\tvalid_0's l2: 0.00975799\n",
      "[64]\ttraining's l2: 0.00693682\tvalid_0's l2: 0.00975984\n",
      "[65]\ttraining's l2: 0.00691308\tvalid_0's l2: 0.00975852\n",
      "[66]\ttraining's l2: 0.00689425\tvalid_0's l2: 0.00975434\n",
      "[67]\ttraining's l2: 0.00687817\tvalid_0's l2: 0.00975261\n",
      "[68]\ttraining's l2: 0.00685441\tvalid_0's l2: 0.00975465\n",
      "[69]\ttraining's l2: 0.00683453\tvalid_0's l2: 0.00974787\n",
      "[70]\ttraining's l2: 0.00681149\tvalid_0's l2: 0.00974392\n",
      "[71]\ttraining's l2: 0.00679263\tvalid_0's l2: 0.0097483\n",
      "[72]\ttraining's l2: 0.00677354\tvalid_0's l2: 0.00974573\n",
      "[73]\ttraining's l2: 0.00675143\tvalid_0's l2: 0.00974202\n",
      "[74]\ttraining's l2: 0.00673043\tvalid_0's l2: 0.0097401\n",
      "[75]\ttraining's l2: 0.00671605\tvalid_0's l2: 0.00974086\n",
      "[76]\ttraining's l2: 0.00670142\tvalid_0's l2: 0.00974003\n",
      "[77]\ttraining's l2: 0.00667996\tvalid_0's l2: 0.00972619\n",
      "[78]\ttraining's l2: 0.00665464\tvalid_0's l2: 0.00971489\n",
      "[79]\ttraining's l2: 0.00663659\tvalid_0's l2: 0.00971051\n",
      "[80]\ttraining's l2: 0.00661649\tvalid_0's l2: 0.00970423\n",
      "[81]\ttraining's l2: 0.00660256\tvalid_0's l2: 0.00970132\n",
      "[82]\ttraining's l2: 0.00658354\tvalid_0's l2: 0.00970464\n",
      "[83]\ttraining's l2: 0.00656548\tvalid_0's l2: 0.00969699\n",
      "[84]\ttraining's l2: 0.00654243\tvalid_0's l2: 0.00968547\n",
      "[85]\ttraining's l2: 0.00652443\tvalid_0's l2: 0.00967801\n",
      "[86]\ttraining's l2: 0.00650632\tvalid_0's l2: 0.00967807\n",
      "[87]\ttraining's l2: 0.00648833\tvalid_0's l2: 0.00967319\n",
      "[88]\ttraining's l2: 0.0064649\tvalid_0's l2: 0.00967002\n",
      "[89]\ttraining's l2: 0.00644751\tvalid_0's l2: 0.00966887\n",
      "[90]\ttraining's l2: 0.00643336\tvalid_0's l2: 0.00967428\n",
      "[91]\ttraining's l2: 0.00642064\tvalid_0's l2: 0.00966819\n",
      "[92]\ttraining's l2: 0.00640707\tvalid_0's l2: 0.00967586\n",
      "[93]\ttraining's l2: 0.00639621\tvalid_0's l2: 0.00967732\n",
      "[94]\ttraining's l2: 0.00637755\tvalid_0's l2: 0.00967227\n",
      "[95]\ttraining's l2: 0.00636785\tvalid_0's l2: 0.00967032\n",
      "[96]\ttraining's l2: 0.0063457\tvalid_0's l2: 0.00967289\n",
      "[97]\ttraining's l2: 0.00633172\tvalid_0's l2: 0.00967849\n",
      "[98]\ttraining's l2: 0.00632285\tvalid_0's l2: 0.00967085\n",
      "[99]\ttraining's l2: 0.00631361\tvalid_0's l2: 0.00966789\n",
      "[100]\ttraining's l2: 0.00629093\tvalid_0's l2: 0.00967015\n",
      "49.60431268673647\n",
      "66.46751466442781\n"
     ]
    }
   ],
   "source": [
    "X = dataConv2.drop(['Boiling Point Conv.', 'Density Conv.'], axis =1)\n",
    "y = dataConv2['Boiling Point Conv.']\n",
    "X_train, X_test, y_train, y_test = train_test_split(X, y, random_state = 42, test_size=0.2)\n",
    "model4 = lgb.LGBMRegressor()\n",
    "model4.fit(X_train, y_train, eval_set=[(X_test, y_test), (X_train, y_train)])\n",
    "y_pred = model4.predict(X_test)\n",
    "y_test_exp = np.expm1(y_test)-272\n",
    "y_pred_exp = np.expm1(y_pred)-272\n",
    "print(mae(y_test_exp, y_pred_exp))\n",
    "print(mse(y_test_exp, y_pred_exp)**0.5)"
   ]
  },
  {
   "cell_type": "code",
   "execution_count": 185,
   "metadata": {},
   "outputs": [
    {
     "data": {
      "text/plain": [
       "<matplotlib.axes._subplots.AxesSubplot at 0x172e56b60c8>"
      ]
     },
     "execution_count": 185,
     "metadata": {},
     "output_type": "execute_result"
    },
    {
     "data": {
      "image/png": "[encoded data removed]",
      "text/plain": [
       "<Figure size 432x288 with 1 Axes>"
      ]
     },
     "metadata": {
      "needs_background": "light"
     },
     "output_type": "display_data"
    }
   ],
   "source": [
    "lgb.plot_metric(model4)"
   ]
  },
  {
   "cell_type": "code",
   "execution_count": 188,
   "metadata": {},
   "outputs": [
    {
     "name": "stdout",
     "output_type": "stream",
     "text": [
      "[1]\ttraining's l2: 0.041583\tvalid_0's l2: 0.0439453\n",
      "[2]\ttraining's l2: 0.0360182\tvalid_0's l2: 0.0382677\n",
      "[3]\ttraining's l2: 0.0314452\tvalid_0's l2: 0.0336052\n",
      "[4]\ttraining's l2: 0.0276775\tvalid_0's l2: 0.0298021\n",
      "[5]\ttraining's l2: 0.024635\tvalid_0's l2: 0.0267423\n",
      "[6]\ttraining's l2: 0.0221334\tvalid_0's l2: 0.0242511\n",
      "[7]\ttraining's l2: 0.0200653\tvalid_0's l2: 0.0221742\n",
      "[8]\ttraining's l2: 0.0183657\tvalid_0's l2: 0.020467\n",
      "[9]\ttraining's l2: 0.0169531\tvalid_0's l2: 0.0190385\n",
      "[10]\ttraining's l2: 0.0157989\tvalid_0's l2: 0.0178736\n",
      "[11]\ttraining's l2: 0.0148422\tvalid_0's l2: 0.0169127\n",
      "[12]\ttraining's l2: 0.0140454\tvalid_0's l2: 0.0161319\n",
      "[13]\ttraining's l2: 0.0133775\tvalid_0's l2: 0.015478\n",
      "[14]\ttraining's l2: 0.0128188\tvalid_0's l2: 0.014959\n",
      "[15]\ttraining's l2: 0.0123491\tvalid_0's l2: 0.0145175\n",
      "[16]\ttraining's l2: 0.0119602\tvalid_0's l2: 0.0141715\n",
      "[17]\ttraining's l2: 0.0116226\tvalid_0's l2: 0.0138798\n",
      "[18]\ttraining's l2: 0.0113369\tvalid_0's l2: 0.0136089\n",
      "[19]\ttraining's l2: 0.0110989\tvalid_0's l2: 0.0133789\n",
      "[20]\ttraining's l2: 0.0108881\tvalid_0's l2: 0.0131845\n",
      "[21]\ttraining's l2: 0.0107151\tvalid_0's l2: 0.013055\n",
      "[22]\ttraining's l2: 0.0105604\tvalid_0's l2: 0.0129197\n",
      "[23]\ttraining's l2: 0.0104209\tvalid_0's l2: 0.0128245\n",
      "[24]\ttraining's l2: 0.0102962\tvalid_0's l2: 0.0127422\n",
      "[25]\ttraining's l2: 0.0101916\tvalid_0's l2: 0.012672\n",
      "[26]\ttraining's l2: 0.0101009\tvalid_0's l2: 0.0126093\n",
      "[27]\ttraining's l2: 0.0100099\tvalid_0's l2: 0.0125464\n",
      "[28]\ttraining's l2: 0.0099276\tvalid_0's l2: 0.0125017\n",
      "[29]\ttraining's l2: 0.00985422\tvalid_0's l2: 0.0124628\n",
      "[30]\ttraining's l2: 0.00979065\tvalid_0's l2: 0.0124464\n",
      "[31]\ttraining's l2: 0.00972224\tvalid_0's l2: 0.012413\n",
      "[32]\ttraining's l2: 0.00966091\tvalid_0's l2: 0.0123849\n",
      "[33]\ttraining's l2: 0.00959742\tvalid_0's l2: 0.0123651\n",
      "[34]\ttraining's l2: 0.00954371\tvalid_0's l2: 0.0123339\n",
      "[35]\ttraining's l2: 0.00949259\tvalid_0's l2: 0.0123175\n",
      "[36]\ttraining's l2: 0.00944634\tvalid_0's l2: 0.0123029\n",
      "[37]\ttraining's l2: 0.00940012\tvalid_0's l2: 0.0122785\n",
      "[38]\ttraining's l2: 0.00935241\tvalid_0's l2: 0.0122683\n",
      "[39]\ttraining's l2: 0.00931097\tvalid_0's l2: 0.0122461\n",
      "[40]\ttraining's l2: 0.00927042\tvalid_0's l2: 0.0122355\n",
      "[41]\ttraining's l2: 0.00924109\tvalid_0's l2: 0.0122307\n",
      "[42]\ttraining's l2: 0.00919834\tvalid_0's l2: 0.0122088\n",
      "[43]\ttraining's l2: 0.00916354\tvalid_0's l2: 0.0121988\n",
      "[44]\ttraining's l2: 0.00912675\tvalid_0's l2: 0.0121941\n",
      "[45]\ttraining's l2: 0.00909423\tvalid_0's l2: 0.0121802\n",
      "[46]\ttraining's l2: 0.00906075\tvalid_0's l2: 0.012176\n",
      "[47]\ttraining's l2: 0.00902461\tvalid_0's l2: 0.0121917\n",
      "[48]\ttraining's l2: 0.0089873\tvalid_0's l2: 0.0121909\n",
      "[49]\ttraining's l2: 0.00895277\tvalid_0's l2: 0.0121955\n",
      "[50]\ttraining's l2: 0.00892618\tvalid_0's l2: 0.0122079\n",
      "[51]\ttraining's l2: 0.00890143\tvalid_0's l2: 0.0122109\n",
      "[52]\ttraining's l2: 0.00887078\tvalid_0's l2: 0.0122111\n",
      "[53]\ttraining's l2: 0.00883971\tvalid_0's l2: 0.0122061\n",
      "[54]\ttraining's l2: 0.00881058\tvalid_0's l2: 0.0122017\n",
      "[55]\ttraining's l2: 0.008791\tvalid_0's l2: 0.0122068\n",
      "[56]\ttraining's l2: 0.00876565\tvalid_0's l2: 0.0122029\n",
      "[57]\ttraining's l2: 0.00874178\tvalid_0's l2: 0.0122043\n",
      "[58]\ttraining's l2: 0.00871569\tvalid_0's l2: 0.0121964\n",
      "[59]\ttraining's l2: 0.0086894\tvalid_0's l2: 0.0121878\n",
      "[60]\ttraining's l2: 0.00866601\tvalid_0's l2: 0.0121877\n",
      "[61]\ttraining's l2: 0.00863835\tvalid_0's l2: 0.012175\n",
      "[62]\ttraining's l2: 0.00861363\tvalid_0's l2: 0.0121749\n",
      "[63]\ttraining's l2: 0.0085899\tvalid_0's l2: 0.0121708\n",
      "[64]\ttraining's l2: 0.00856147\tvalid_0's l2: 0.0121633\n",
      "[65]\ttraining's l2: 0.00853742\tvalid_0's l2: 0.0121567\n",
      "[66]\ttraining's l2: 0.00851601\tvalid_0's l2: 0.0121571\n",
      "[67]\ttraining's l2: 0.00849767\tvalid_0's l2: 0.0121699\n",
      "[68]\ttraining's l2: 0.00847917\tvalid_0's l2: 0.0121659\n",
      "[69]\ttraining's l2: 0.00844912\tvalid_0's l2: 0.0121655\n",
      "[70]\ttraining's l2: 0.00842507\tvalid_0's l2: 0.0121559\n",
      "[71]\ttraining's l2: 0.00840551\tvalid_0's l2: 0.0121486\n",
      "[72]\ttraining's l2: 0.00838188\tvalid_0's l2: 0.0121485\n",
      "[73]\ttraining's l2: 0.00835841\tvalid_0's l2: 0.0121453\n",
      "[74]\ttraining's l2: 0.00833749\tvalid_0's l2: 0.0121399\n",
      "[75]\ttraining's l2: 0.00831\tvalid_0's l2: 0.0121495\n",
      "[76]\ttraining's l2: 0.00829326\tvalid_0's l2: 0.0121556\n",
      "[77]\ttraining's l2: 0.00826216\tvalid_0's l2: 0.0121438\n",
      "[78]\ttraining's l2: 0.00823928\tvalid_0's l2: 0.0121464\n",
      "[79]\ttraining's l2: 0.00822241\tvalid_0's l2: 0.0121522\n",
      "[80]\ttraining's l2: 0.00820282\tvalid_0's l2: 0.0121426\n",
      "[81]\ttraining's l2: 0.00818584\tvalid_0's l2: 0.0121498\n",
      "[82]\ttraining's l2: 0.008172\tvalid_0's l2: 0.0121537\n",
      "[83]\ttraining's l2: 0.00815198\tvalid_0's l2: 0.0121453\n",
      "[84]\ttraining's l2: 0.00812957\tvalid_0's l2: 0.0121481\n",
      "[85]\ttraining's l2: 0.00811151\tvalid_0's l2: 0.0121557\n",
      "[86]\ttraining's l2: 0.00808347\tvalid_0's l2: 0.0121531\n",
      "[87]\ttraining's l2: 0.00805763\tvalid_0's l2: 0.0121485\n",
      "[88]\ttraining's l2: 0.00803008\tvalid_0's l2: 0.0121407\n",
      "[89]\ttraining's l2: 0.00801114\tvalid_0's l2: 0.0121373\n",
      "[90]\ttraining's l2: 0.00799573\tvalid_0's l2: 0.0121366\n",
      "[91]\ttraining's l2: 0.00797706\tvalid_0's l2: 0.0121313\n",
      "[92]\ttraining's l2: 0.00796417\tvalid_0's l2: 0.0121462\n",
      "[93]\ttraining's l2: 0.00793861\tvalid_0's l2: 0.0121431\n",
      "[94]\ttraining's l2: 0.00792247\tvalid_0's l2: 0.0121496\n",
      "[95]\ttraining's l2: 0.00791197\tvalid_0's l2: 0.012155\n",
      "[96]\ttraining's l2: 0.00789113\tvalid_0's l2: 0.0121543\n",
      "[97]\ttraining's l2: 0.00787311\tvalid_0's l2: 0.0121509\n",
      "[98]\ttraining's l2: 0.00785425\tvalid_0's l2: 0.0121525\n",
      "[99]\ttraining's l2: 0.00782587\tvalid_0's l2: 0.0121362\n",
      "[100]\ttraining's l2: 0.00780316\tvalid_0's l2: 0.0121327\n",
      "56.06929954231749\n",
      "75.62179532289589\n"
     ]
    }
   ],
   "source": [
    "X = dataConv2.drop(['Boiling Point Conv.', 'Density Conv.', 'Freely Rotatable Bonds', 'H Donors'], axis =1)\n",
    "y = dataConv2['Boiling Point Conv.']\n",
    "X_train, X_test, y_train, y_test = train_test_split(X, y, random_state = 42, test_size=0.2)\n",
    "model5 = lgb.LGBMRegressor()\n",
    "model5.fit(X_train, y_train, eval_set=[(X_test, y_test), (X_train, y_train)])\n",
    "y_pred = model5.predict(X_test)\n",
    "y_test_exp = np.expm1(y_test)-272\n",
    "y_pred_exp = np.expm1(y_pred)-272\n",
    "print(mae(y_test_exp, y_pred_exp))\n",
    "print(mse(y_test_exp, y_pred_exp)**0.5)"
   ]
  },
  {
   "cell_type": "code",
   "execution_count": 193,
   "metadata": {},
   "outputs": [],
   "source": [
    "data.to_csv('data.csv', encoding='utf-8')"
   ]
  },
  {
   "cell_type": "code",
   "execution_count": 194,
   "metadata": {},
   "outputs": [],
   "source": [
    "q = pd.read_csv('data.csv')"
   ]
  },
  {
   "cell_type": "code",
   "execution_count": 195,
   "metadata": {},
   "outputs": [
    {
     "data": {
      "text/html": [
       "<div>\n",
       "<style scoped>\n",
       "    .dataframe tbody tr th:only-of-type {\n",
       "        vertical-align: middle;\n",
       "    }\n",
       "\n",
       "    .dataframe tbody tr th {\n",
       "        vertical-align: top;\n",
       "    }\n",
       "\n",
       "    .dataframe thead th {\n",
       "        text-align: right;\n",
       "    }\n",
       "</style>\n",
       "<table border=\"1\" class=\"dataframe\">\n",
       "  <thead>\n",
       "    <tr style=\"text-align: right;\">\n",
       "      <th></th>\n",
       "      <th>Unnamed: 0</th>\n",
       "      <th>Density</th>\n",
       "      <th>Molar Volume</th>\n",
       "      <th>Freely Rotatable Bonds</th>\n",
       "      <th>H Acceptors</th>\n",
       "      <th>H Donors</th>\n",
       "      <th>Molecular Weight</th>\n",
       "      <th>Polar Surface Area</th>\n",
       "      <th>Boiling Point</th>\n",
       "    </tr>\n",
       "  </thead>\n",
       "  <tbody>\n",
       "    <tr>\n",
       "      <th>0</th>\n",
       "      <td>0</td>\n",
       "      <td>1.799</td>\n",
       "      <td>167.9</td>\n",
       "      <td>6.0</td>\n",
       "      <td>7.0</td>\n",
       "      <td>5.0</td>\n",
       "      <td>302.24</td>\n",
       "      <td>127.0</td>\n",
       "      <td>642.4</td>\n",
       "    </tr>\n",
       "    <tr>\n",
       "      <th>1</th>\n",
       "      <td>1</td>\n",
       "      <td>0.990</td>\n",
       "      <td>107.9</td>\n",
       "      <td>1.0</td>\n",
       "      <td>1.0</td>\n",
       "      <td>2.0</td>\n",
       "      <td>107.15</td>\n",
       "      <td>26.0</td>\n",
       "      <td>NaN</td>\n",
       "    </tr>\n",
       "    <tr>\n",
       "      <th>2</th>\n",
       "      <td>2</td>\n",
       "      <td>1.079</td>\n",
       "      <td>183.8</td>\n",
       "      <td>2.0</td>\n",
       "      <td>1.0</td>\n",
       "      <td>0.0</td>\n",
       "      <td>196.24</td>\n",
       "      <td>17.1</td>\n",
       "      <td>218.6</td>\n",
       "    </tr>\n",
       "    <tr>\n",
       "      <th>3</th>\n",
       "      <td>3</td>\n",
       "      <td>1.265</td>\n",
       "      <td>109.2</td>\n",
       "      <td>1.0</td>\n",
       "      <td>2.0</td>\n",
       "      <td>2.0</td>\n",
       "      <td>138.19</td>\n",
       "      <td>71.0</td>\n",
       "      <td>278.9</td>\n",
       "    </tr>\n",
       "    <tr>\n",
       "      <th>4</th>\n",
       "      <td>4</td>\n",
       "      <td>1.328</td>\n",
       "      <td>156.6</td>\n",
       "      <td>0.0</td>\n",
       "      <td>2.0</td>\n",
       "      <td>0.0</td>\n",
       "      <td>208.21</td>\n",
       "      <td>34.1</td>\n",
       "      <td>406.0</td>\n",
       "    </tr>\n",
       "    <tr>\n",
       "      <th>...</th>\n",
       "      <td>...</td>\n",
       "      <td>...</td>\n",
       "      <td>...</td>\n",
       "      <td>...</td>\n",
       "      <td>...</td>\n",
       "      <td>...</td>\n",
       "      <td>...</td>\n",
       "      <td>...</td>\n",
       "      <td>...</td>\n",
       "    </tr>\n",
       "    <tr>\n",
       "      <th>9995</th>\n",
       "      <td>9995</td>\n",
       "      <td>1.127</td>\n",
       "      <td>150.9</td>\n",
       "      <td>3.0</td>\n",
       "      <td>0.0</td>\n",
       "      <td>0.0</td>\n",
       "      <td>170.30</td>\n",
       "      <td>67.0</td>\n",
       "      <td>NaN</td>\n",
       "    </tr>\n",
       "    <tr>\n",
       "      <th>9996</th>\n",
       "      <td>9996</td>\n",
       "      <td>1.892</td>\n",
       "      <td>113.2</td>\n",
       "      <td>1.0</td>\n",
       "      <td>0.0</td>\n",
       "      <td>0.0</td>\n",
       "      <td>214.43</td>\n",
       "      <td>0.0</td>\n",
       "      <td>175.8</td>\n",
       "    </tr>\n",
       "    <tr>\n",
       "      <th>9997</th>\n",
       "      <td>9997</td>\n",
       "      <td>1.475</td>\n",
       "      <td>104.7</td>\n",
       "      <td>0.0</td>\n",
       "      <td>3.0</td>\n",
       "      <td>0.0</td>\n",
       "      <td>154.55</td>\n",
       "      <td>38.9</td>\n",
       "      <td>322.4</td>\n",
       "    </tr>\n",
       "    <tr>\n",
       "      <th>9998</th>\n",
       "      <td>9998</td>\n",
       "      <td>1.403</td>\n",
       "      <td>517.7</td>\n",
       "      <td>17.0</td>\n",
       "      <td>11.0</td>\n",
       "      <td>4.0</td>\n",
       "      <td>726.73</td>\n",
       "      <td>161.0</td>\n",
       "      <td>942.0</td>\n",
       "    </tr>\n",
       "    <tr>\n",
       "      <th>9999</th>\n",
       "      <td>9999</td>\n",
       "      <td>1.124</td>\n",
       "      <td>351.5</td>\n",
       "      <td>7.0</td>\n",
       "      <td>5.0</td>\n",
       "      <td>1.0</td>\n",
       "      <td>395.49</td>\n",
       "      <td>56.8</td>\n",
       "      <td>541.5</td>\n",
       "    </tr>\n",
       "  </tbody>\n",
       "</table>\n",
       "<p>10000 rows × 9 columns</p>\n",
       "</div>"
      ],
      "text/plain": [
       "      Unnamed: 0  Density  Molar Volume  Freely Rotatable Bonds  H Acceptors  \\\n",
       "0              0    1.799         167.9                     6.0          7.0   \n",
       "1              1    0.990         107.9                     1.0          1.0   \n",
       "2              2    1.079         183.8                     2.0          1.0   \n",
       "3              3    1.265         109.2                     1.0          2.0   \n",
       "4              4    1.328         156.6                     0.0          2.0   \n",
       "...          ...      ...           ...                     ...          ...   \n",
       "9995        9995    1.127         150.9                     3.0          0.0   \n",
       "9996        9996    1.892         113.2                     1.0          0.0   \n",
       "9997        9997    1.475         104.7                     0.0          3.0   \n",
       "9998        9998    1.403         517.7                    17.0         11.0   \n",
       "9999        9999    1.124         351.5                     7.0          5.0   \n",
       "\n",
       "      H Donors  Molecular Weight  Polar Surface Area  Boiling Point  \n",
       "0          5.0            302.24               127.0          642.4  \n",
       "1          2.0            107.15                26.0            NaN  \n",
       "2          0.0            196.24                17.1          218.6  \n",
       "3          2.0            138.19                71.0          278.9  \n",
       "4          0.0            208.21                34.1          406.0  \n",
       "...        ...               ...                 ...            ...  \n",
       "9995       0.0            170.30                67.0            NaN  \n",
       "9996       0.0            214.43                 0.0          175.8  \n",
       "9997       0.0            154.55                38.9          322.4  \n",
       "9998       4.0            726.73               161.0          942.0  \n",
       "9999       1.0            395.49                56.8          541.5  \n",
       "\n",
       "[10000 rows x 9 columns]"
      ]
     },
     "execution_count": 195,
     "metadata": {},
     "output_type": "execute_result"
    }
   ],
   "source": [
    "q"
   ]
  },
  {
   "cell_type": "code",
   "execution_count": null,
   "metadata": {},
   "outputs": [],
   "source": []
  }
 ],
 "metadata": {
  "kernelspec": {
   "display_name": "Python 3",
   "language": "python",
   "name": "python3"
  },
  "language_info": {
   "codemirror_mode": {
    "name": "ipython",
    "version": 3
   },
   "file_extension": ".py",
   "mimetype": "text/x-python",
   "name": "python",
   "nbconvert_exporter": "python",
   "pygments_lexer": "ipython3",
   "version": "3.7.6"
  }
 },
 "nbformat": 4,
 "nbformat_minor": 4
}
